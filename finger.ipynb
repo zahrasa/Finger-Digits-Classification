{
 "cells": [
  {
   "cell_type": "code",
   "execution_count": 1,
   "metadata": {
    "id": "TN-ojsgPJada"
   },
   "outputs": [],
   "source": [
    "# import libraries\n",
    "%%capture\n",
    "\n",
    "import os\n",
    "import numpy as np\n",
    "import matplotlib.pyplot as plt\n",
    "import pandas as pd\n",
    "import itertools\n",
    "from IPython.display import display, Image\n",
    "from pathlib import Path\n",
    "import sklearn\n",
    "from sklearn.model_selection import train_test_split\n",
    "from sklearn.metrics import confusion_matrix\n",
    "from sklearn.metrics import classification_report\n",
    "import tensorflow as tf\n",
    "import tensorflow_hub as hub\n",
    "import seaborn as sns"
   ]
  },
  {
   "cell_type": "code",
   "execution_count": 2,
   "metadata": {
    "colab": {
     "base_uri": "https://localhost:8080/"
    },
    "id": "zxMz-jCwKB5E",
    "outputId": "b55633a9-0780-4227-9446-dbb04b83a33a"
   },
   "outputs": [
    {
     "name": "stdout",
     "output_type": "stream",
     "text": [
      "Requirement already satisfied: gdown in /usr/local/lib/python3.7/dist-packages (4.2.2)\n",
      "Collecting gdown\n",
      "  Downloading gdown-4.4.0.tar.gz (14 kB)\n",
      "  Installing build dependencies ... \u001b[?25l\u001b[?25hdone\n",
      "  Getting requirements to build wheel ... \u001b[?25l\u001b[?25hdone\n",
      "    Preparing wheel metadata ... \u001b[?25l\u001b[?25hdone\n",
      "Requirement already satisfied: beautifulsoup4 in /usr/local/lib/python3.7/dist-packages (from gdown) (4.6.3)\n",
      "Requirement already satisfied: requests[socks] in /usr/local/lib/python3.7/dist-packages (from gdown) (2.23.0)\n",
      "Requirement already satisfied: filelock in /usr/local/lib/python3.7/dist-packages (from gdown) (3.6.0)\n",
      "Requirement already satisfied: tqdm in /usr/local/lib/python3.7/dist-packages (from gdown) (4.63.0)\n",
      "Requirement already satisfied: six in /usr/local/lib/python3.7/dist-packages (from gdown) (1.15.0)\n",
      "Requirement already satisfied: idna<3,>=2.5 in /usr/local/lib/python3.7/dist-packages (from requests[socks]->gdown) (2.10)\n",
      "Requirement already satisfied: certifi>=2017.4.17 in /usr/local/lib/python3.7/dist-packages (from requests[socks]->gdown) (2021.10.8)\n",
      "Requirement already satisfied: urllib3!=1.25.0,!=1.25.1,<1.26,>=1.21.1 in /usr/local/lib/python3.7/dist-packages (from requests[socks]->gdown) (1.24.3)\n",
      "Requirement already satisfied: chardet<4,>=3.0.2 in /usr/local/lib/python3.7/dist-packages (from requests[socks]->gdown) (3.0.4)\n",
      "Requirement already satisfied: PySocks!=1.5.7,>=1.5.6 in /usr/local/lib/python3.7/dist-packages (from requests[socks]->gdown) (1.7.1)\n",
      "Building wheels for collected packages: gdown\n",
      "  Building wheel for gdown (PEP 517) ... \u001b[?25l\u001b[?25hdone\n",
      "  Created wheel for gdown: filename=gdown-4.4.0-py3-none-any.whl size=14774 sha256=9ab2655c2349f67395558625b5a58dacac39263076f72aa69aa2d70fd582227d\n",
      "  Stored in directory: /tmp/pip-ephem-wheel-cache-nybbgl4m/wheels/fb/c3/0e/c4d8ff8bfcb0461afff199471449f642179b74968c15b7a69c\n",
      "Successfully built gdown\n",
      "Installing collected packages: gdown\n",
      "  Attempting uninstall: gdown\n",
      "    Found existing installation: gdown 4.2.2\n",
      "    Uninstalling gdown-4.2.2:\n",
      "      Successfully uninstalled gdown-4.2.2\n",
      "Successfully installed gdown-4.4.0\n"
     ]
    }
   ],
   "source": [
    "!pip install --upgrade --no-cache-dir gdown"
   ]
  },
  {
   "cell_type": "code",
   "execution_count": 3,
   "metadata": {
    "colab": {
     "base_uri": "https://localhost:8080/"
    },
    "id": "b5YYqWScHrv2",
    "outputId": "78249540-4fc9-4ebe-8d82-55079a2b3f31"
   },
   "outputs": [
    {
     "name": "stdout",
     "output_type": "stream",
     "text": [
      "/usr/local/lib/python3.7/dist-packages/gdown/cli.py:131: FutureWarning: Option `--id` was deprecated in version 4.3.1 and will be removed in 5.0. You don't need to pass it anymore to use a file ID.\n",
      "  category=FutureWarning,\n",
      "Downloading...\n",
      "From: https://drive.google.com/uc?id=1UT_9id3u08GwOO4lW1-BQffqIsl8j7VY\n",
      "To: /content/finger digit.zip\n",
      "100% 17.8M/17.8M [00:00<00:00, 58.5MB/s]\n"
     ]
    }
   ],
   "source": [
    "# Download the dataset\n",
    "! rm -rf * # carfully using\n",
    "! gdown --id 1UT_9id3u08GwOO4lW1-BQffqIsl8j7VY"
   ]
  },
  {
   "cell_type": "code",
   "execution_count": null,
   "metadata": {
    "colab": {
     "base_uri": "https://localhost:8080/"
    },
    "id": "--50eIXEIEbK",
    "outputId": "939af033-27f6-420e-b285-a586270972c2"
   },
   "outputs": [],
   "source": [
    "# unzip zip dataset file\n",
    "! unzip \"finger digit.zip\"\n",
    "! rm -r \"finger digit.zip\""
   ]
  },
  {
   "cell_type": "code",
   "execution_count": 5,
   "metadata": {
    "id": "vJ3LL5XkJRcz"
   },
   "outputs": [],
   "source": [
    "# Set Variables\n",
    "data_dir = Path(\"\")\n",
    "train_dir = data_dir/\"train\"\n",
    "test_dir = data_dir/\"test\""
   ]
  },
  {
   "cell_type": "code",
   "execution_count": 6,
   "metadata": {
    "colab": {
     "base_uri": "https://localhost:8080/"
    },
    "id": "FFzVh-zyJRsm",
    "outputId": "28a154ac-57dc-4817-e595-015ea0f38bd0"
   },
   "outputs": [
    {
     "data": {
      "text/plain": [
       "['train/1866_2.png',\n",
       " 'train/4792_3.png',\n",
       " 'train/4201_0.png',\n",
       " 'train/8239_2.png',\n",
       " 'train/5068_2.png',\n",
       " 'train/8506_1.png',\n",
       " 'train/6347_5.png',\n",
       " 'train/8272_4.png',\n",
       " 'train/7273_4.png',\n",
       " 'train/4181_4.png']"
      ]
     },
     "execution_count": 6,
     "metadata": {},
     "output_type": "execute_result"
    }
   ],
   "source": [
    "# create a list for file paths\n",
    "path_list = list(map(lambda y:os.path.join(train_dir,y),os.listdir(os.path.join(train_dir)))), os.listdir(train_dir)\n",
    "path_list = list(itertools.chain.from_iterable(path_list)) # make o flat list\n",
    "path_list[0:10]"
   ]
  },
  {
   "cell_type": "code",
   "execution_count": 7,
   "metadata": {
    "colab": {
     "base_uri": "https://localhost:8080/",
     "height": 36
    },
    "id": "ztCw5fU_Ke3h",
    "outputId": "e756c592-76ff-458d-ef0b-42baa38e5022"
   },
   "outputs": [
    {
     "data": {
      "application/vnd.google.colaboratory.intrinsic+json": {
       "type": "string"
      },
      "text/plain": [
       "'3594_5.png'"
      ]
     },
     "execution_count": 7,
     "metadata": {},
     "output_type": "execute_result"
    }
   ],
   "source": [
    "path_list[10000]"
   ]
  },
  {
   "cell_type": "code",
   "execution_count": 8,
   "metadata": {
    "colab": {
     "base_uri": "https://localhost:8080/",
     "height": 145
    },
    "id": "fR6mZhnNKfBe",
    "outputId": "971d7d1a-c783-4ffd-8fcc-7598f66b9f0c"
   },
   "outputs": [
    {
     "data": {
      "image/png": "[encoded data removed]",
      "text/plain": [
       "<IPython.core.display.Image object>"
      ]
     },
     "execution_count": 8,
     "metadata": {},
     "output_type": "execute_result"
    }
   ],
   "source": [
    "# one dataset sampel\n",
    "Image(path_list[984])"
   ]
  },
  {
   "cell_type": "code",
   "execution_count": 9,
   "metadata": {
    "colab": {
     "base_uri": "https://localhost:8080/",
     "height": 206
    },
    "id": "SejUqhBGKn6v",
    "outputId": "153cabc8-6de6-422d-f32e-64f9d9f6b663"
   },
   "outputs": [
    {
     "data": {
      "text/html": [
       "\n",
       "  <div id=\"df-e053a7ce-f9ca-40a9-a8c2-e46ab6185590\">\n",
       "    <div class=\"colab-df-container\">\n",
       "      <div>\n",
       "<style scoped>\n",
       "    .dataframe tbody tr th:only-of-type {\n",
       "        vertical-align: middle;\n",
       "    }\n",
       "\n",
       "    .dataframe tbody tr th {\n",
       "        vertical-align: top;\n",
       "    }\n",
       "\n",
       "    .dataframe thead th {\n",
       "        text-align: right;\n",
       "    }\n",
       "</style>\n",
       "<table border=\"1\" class=\"dataframe\">\n",
       "  <thead>\n",
       "    <tr style=\"text-align: right;\">\n",
       "      <th></th>\n",
       "      <th>path</th>\n",
       "      <th>label</th>\n",
       "    </tr>\n",
       "  </thead>\n",
       "  <tbody>\n",
       "    <tr>\n",
       "      <th>0</th>\n",
       "      <td>train/1866_2.png</td>\n",
       "      <td>2.png</td>\n",
       "    </tr>\n",
       "    <tr>\n",
       "      <th>1</th>\n",
       "      <td>train/4792_3.png</td>\n",
       "      <td>3.png</td>\n",
       "    </tr>\n",
       "    <tr>\n",
       "      <th>2</th>\n",
       "      <td>train/4201_0.png</td>\n",
       "      <td>0.png</td>\n",
       "    </tr>\n",
       "    <tr>\n",
       "      <th>3</th>\n",
       "      <td>train/8239_2.png</td>\n",
       "      <td>2.png</td>\n",
       "    </tr>\n",
       "    <tr>\n",
       "      <th>4</th>\n",
       "      <td>train/5068_2.png</td>\n",
       "      <td>2.png</td>\n",
       "    </tr>\n",
       "  </tbody>\n",
       "</table>\n",
       "</div>\n",
       "      <button class=\"colab-df-convert\" onclick=\"convertToInteractive('df-e053a7ce-f9ca-40a9-a8c2-e46ab6185590')\"\n",
       "              title=\"Convert this dataframe to an interactive table.\"\n",
       "              style=\"display:none;\">\n",
       "        \n",
       "  <svg xmlns=\"http://www.w3.org/2000/svg\" height=\"24px\"viewBox=\"0 0 24 24\"\n",
       "       width=\"24px\">\n",
       "    <path d=\"M0 0h24v24H0V0z\" fill=\"none\"/>\n",
       "    <path d=\"M18.56 5.44l.94 2.06.94-2.06 2.06-.94-2.06-.94-.94-2.06-.94 2.06-2.06.94zm-11 1L8.5 8.5l.94-2.06 2.06-.94-2.06-.94L8.5 2.5l-.94 2.06-2.06.94zm10 10l.94 2.06.94-2.06 2.06-.94-2.06-.94-.94-2.06-.94 2.06-2.06.94z\"/><path d=\"M17.41 7.96l-1.37-1.37c-.4-.4-.92-.59-1.43-.59-.52 0-1.04.2-1.43.59L10.3 9.45l-7.72 7.72c-.78.78-.78 2.05 0 2.83L4 21.41c.39.39.9.59 1.41.59.51 0 1.02-.2 1.41-.59l7.78-7.78 2.81-2.81c.8-.78.8-2.07 0-2.86zM5.41 20L4 18.59l7.72-7.72 1.47 1.35L5.41 20z\"/>\n",
       "  </svg>\n",
       "      </button>\n",
       "      \n",
       "  <style>\n",
       "    .colab-df-container {\n",
       "      display:flex;\n",
       "      flex-wrap:wrap;\n",
       "      gap: 12px;\n",
       "    }\n",
       "\n",
       "    .colab-df-convert {\n",
       "      background-color: #E8F0FE;\n",
       "      border: none;\n",
       "      border-radius: 50%;\n",
       "      cursor: pointer;\n",
       "      display: none;\n",
       "      fill: #1967D2;\n",
       "      height: 32px;\n",
       "      padding: 0 0 0 0;\n",
       "      width: 32px;\n",
       "    }\n",
       "\n",
       "    .colab-df-convert:hover {\n",
       "      background-color: #E2EBFA;\n",
       "      box-shadow: 0px 1px 2px rgba(60, 64, 67, 0.3), 0px 1px 3px 1px rgba(60, 64, 67, 0.15);\n",
       "      fill: #174EA6;\n",
       "    }\n",
       "\n",
       "    [theme=dark] .colab-df-convert {\n",
       "      background-color: #3B4455;\n",
       "      fill: #D2E3FC;\n",
       "    }\n",
       "\n",
       "    [theme=dark] .colab-df-convert:hover {\n",
       "      background-color: #434B5C;\n",
       "      box-shadow: 0px 1px 3px 1px rgba(0, 0, 0, 0.15);\n",
       "      filter: drop-shadow(0px 1px 2px rgba(0, 0, 0, 0.3));\n",
       "      fill: #FFFFFF;\n",
       "    }\n",
       "  </style>\n",
       "\n",
       "      <script>\n",
       "        const buttonEl =\n",
       "          document.querySelector('#df-e053a7ce-f9ca-40a9-a8c2-e46ab6185590 button.colab-df-convert');\n",
       "        buttonEl.style.display =\n",
       "          google.colab.kernel.accessAllowed ? 'block' : 'none';\n",
       "\n",
       "        async function convertToInteractive(key) {\n",
       "          const element = document.querySelector('#df-e053a7ce-f9ca-40a9-a8c2-e46ab6185590');\n",
       "          const dataTable =\n",
       "            await google.colab.kernel.invokeFunction('convertToInteractive',\n",
       "                                                     [key], {});\n",
       "          if (!dataTable) return;\n",
       "\n",
       "          const docLinkHtml = 'Like what you see? Visit the ' +\n",
       "            '<a target=\"_blank\" href=https://colab.research.google.com/notebooks/data_table.ipynb>data table notebook</a>'\n",
       "            + ' to learn more about interactive tables.';\n",
       "          element.innerHTML = '';\n",
       "          dataTable['output_type'] = 'display_data';\n",
       "          await google.colab.output.renderOutput(dataTable, element);\n",
       "          const docLink = document.createElement('div');\n",
       "          docLink.innerHTML = docLinkHtml;\n",
       "          element.appendChild(docLink);\n",
       "        }\n",
       "      </script>\n",
       "    </div>\n",
       "  </div>\n",
       "  "
      ],
      "text/plain": [
       "               path  label\n",
       "0  train/1866_2.png  2.png\n",
       "1  train/4792_3.png  3.png\n",
       "2  train/4201_0.png  0.png\n",
       "3  train/8239_2.png  2.png\n",
       "4  train/5068_2.png  2.png"
      ]
     },
     "execution_count": 9,
     "metadata": {},
     "output_type": "execute_result"
    }
   ],
   "source": [
    "# create DataFrame from path_list\n",
    "labels_df = pd.DataFrame({'path':path_list})\n",
    "# get labels from path\n",
    "labels_df['label'] = labels_df.path.apply(lambda x:x.split('_')[1])\n",
    "labels_df.head()"
   ]
  },
  {
   "cell_type": "code",
   "execution_count": 10,
   "metadata": {
    "colab": {
     "base_uri": "https://localhost:8080/",
     "height": 243
    },
    "id": "Am9s73W7MHJt",
    "outputId": "3a0a5e5d-a09e-45b6-a9ca-da1c6cf5ee50"
   },
   "outputs": [
    {
     "name": "stderr",
     "output_type": "stream",
     "text": [
      "/usr/local/lib/python3.7/dist-packages/ipykernel_launcher.py:1: FutureWarning: The default value of regex will change from True to False in a future version.\n",
      "  \"\"\"Entry point for launching an IPython kernel.\n"
     ]
    },
    {
     "data": {
      "text/html": [
       "\n",
       "  <div id=\"df-d61ef889-9451-47f5-b214-c4d60e71c95a\">\n",
       "    <div class=\"colab-df-container\">\n",
       "      <div>\n",
       "<style scoped>\n",
       "    .dataframe tbody tr th:only-of-type {\n",
       "        vertical-align: middle;\n",
       "    }\n",
       "\n",
       "    .dataframe tbody tr th {\n",
       "        vertical-align: top;\n",
       "    }\n",
       "\n",
       "    .dataframe thead th {\n",
       "        text-align: right;\n",
       "    }\n",
       "</style>\n",
       "<table border=\"1\" class=\"dataframe\">\n",
       "  <thead>\n",
       "    <tr style=\"text-align: right;\">\n",
       "      <th></th>\n",
       "      <th>path</th>\n",
       "      <th>label</th>\n",
       "    </tr>\n",
       "  </thead>\n",
       "  <tbody>\n",
       "    <tr>\n",
       "      <th>0</th>\n",
       "      <td>train/1866_2.png</td>\n",
       "      <td>2</td>\n",
       "    </tr>\n",
       "    <tr>\n",
       "      <th>1</th>\n",
       "      <td>train/4792_3.png</td>\n",
       "      <td>3</td>\n",
       "    </tr>\n",
       "    <tr>\n",
       "      <th>2</th>\n",
       "      <td>train/4201_0.png</td>\n",
       "      <td>0</td>\n",
       "    </tr>\n",
       "    <tr>\n",
       "      <th>3</th>\n",
       "      <td>train/8239_2.png</td>\n",
       "      <td>2</td>\n",
       "    </tr>\n",
       "    <tr>\n",
       "      <th>4</th>\n",
       "      <td>train/5068_2.png</td>\n",
       "      <td>2</td>\n",
       "    </tr>\n",
       "  </tbody>\n",
       "</table>\n",
       "</div>\n",
       "      <button class=\"colab-df-convert\" onclick=\"convertToInteractive('df-d61ef889-9451-47f5-b214-c4d60e71c95a')\"\n",
       "              title=\"Convert this dataframe to an interactive table.\"\n",
       "              style=\"display:none;\">\n",
       "        \n",
       "  <svg xmlns=\"http://www.w3.org/2000/svg\" height=\"24px\"viewBox=\"0 0 24 24\"\n",
       "       width=\"24px\">\n",
       "    <path d=\"M0 0h24v24H0V0z\" fill=\"none\"/>\n",
       "    <path d=\"M18.56 5.44l.94 2.06.94-2.06 2.06-.94-2.06-.94-.94-2.06-.94 2.06-2.06.94zm-11 1L8.5 8.5l.94-2.06 2.06-.94-2.06-.94L8.5 2.5l-.94 2.06-2.06.94zm10 10l.94 2.06.94-2.06 2.06-.94-2.06-.94-.94-2.06-.94 2.06-2.06.94z\"/><path d=\"M17.41 7.96l-1.37-1.37c-.4-.4-.92-.59-1.43-.59-.52 0-1.04.2-1.43.59L10.3 9.45l-7.72 7.72c-.78.78-.78 2.05 0 2.83L4 21.41c.39.39.9.59 1.41.59.51 0 1.02-.2 1.41-.59l7.78-7.78 2.81-2.81c.8-.78.8-2.07 0-2.86zM5.41 20L4 18.59l7.72-7.72 1.47 1.35L5.41 20z\"/>\n",
       "  </svg>\n",
       "      </button>\n",
       "      \n",
       "  <style>\n",
       "    .colab-df-container {\n",
       "      display:flex;\n",
       "      flex-wrap:wrap;\n",
       "      gap: 12px;\n",
       "    }\n",
       "\n",
       "    .colab-df-convert {\n",
       "      background-color: #E8F0FE;\n",
       "      border: none;\n",
       "      border-radius: 50%;\n",
       "      cursor: pointer;\n",
       "      display: none;\n",
       "      fill: #1967D2;\n",
       "      height: 32px;\n",
       "      padding: 0 0 0 0;\n",
       "      width: 32px;\n",
       "    }\n",
       "\n",
       "    .colab-df-convert:hover {\n",
       "      background-color: #E2EBFA;\n",
       "      box-shadow: 0px 1px 2px rgba(60, 64, 67, 0.3), 0px 1px 3px 1px rgba(60, 64, 67, 0.15);\n",
       "      fill: #174EA6;\n",
       "    }\n",
       "\n",
       "    [theme=dark] .colab-df-convert {\n",
       "      background-color: #3B4455;\n",
       "      fill: #D2E3FC;\n",
       "    }\n",
       "\n",
       "    [theme=dark] .colab-df-convert:hover {\n",
       "      background-color: #434B5C;\n",
       "      box-shadow: 0px 1px 3px 1px rgba(0, 0, 0, 0.15);\n",
       "      filter: drop-shadow(0px 1px 2px rgba(0, 0, 0, 0.3));\n",
       "      fill: #FFFFFF;\n",
       "    }\n",
       "  </style>\n",
       "\n",
       "      <script>\n",
       "        const buttonEl =\n",
       "          document.querySelector('#df-d61ef889-9451-47f5-b214-c4d60e71c95a button.colab-df-convert');\n",
       "        buttonEl.style.display =\n",
       "          google.colab.kernel.accessAllowed ? 'block' : 'none';\n",
       "\n",
       "        async function convertToInteractive(key) {\n",
       "          const element = document.querySelector('#df-d61ef889-9451-47f5-b214-c4d60e71c95a');\n",
       "          const dataTable =\n",
       "            await google.colab.kernel.invokeFunction('convertToInteractive',\n",
       "                                                     [key], {});\n",
       "          if (!dataTable) return;\n",
       "\n",
       "          const docLinkHtml = 'Like what you see? Visit the ' +\n",
       "            '<a target=\"_blank\" href=https://colab.research.google.com/notebooks/data_table.ipynb>data table notebook</a>'\n",
       "            + ' to learn more about interactive tables.';\n",
       "          element.innerHTML = '';\n",
       "          dataTable['output_type'] = 'display_data';\n",
       "          await google.colab.output.renderOutput(dataTable, element);\n",
       "          const docLink = document.createElement('div');\n",
       "          docLink.innerHTML = docLinkHtml;\n",
       "          element.appendChild(docLink);\n",
       "        }\n",
       "      </script>\n",
       "    </div>\n",
       "  </div>\n",
       "  "
      ],
      "text/plain": [
       "               path label\n",
       "0  train/1866_2.png     2\n",
       "1  train/4792_3.png     3\n",
       "2  train/4201_0.png     0\n",
       "3  train/8239_2.png     2\n",
       "4  train/5068_2.png     2"
      ]
     },
     "execution_count": 10,
     "metadata": {},
     "output_type": "execute_result"
    }
   ],
   "source": [
    "labels_df['label'] = labels_df['label'].str.replace('.png', '')\n",
    "labels_df.head()"
   ]
  },
  {
   "cell_type": "code",
   "execution_count": 11,
   "metadata": {
    "id": "-M8G34IMVHBt"
   },
   "outputs": [],
   "source": [
    "N = 7688\n",
    "labels_df = labels_df.iloc[:-N , :]"
   ]
  },
  {
   "cell_type": "code",
   "execution_count": 12,
   "metadata": {
    "id": "-GZHKLSdPMBP"
   },
   "outputs": [],
   "source": [
    "labels_df.to_csv('label.csv',index = False)"
   ]
  },
  {
   "cell_type": "code",
   "execution_count": 13,
   "metadata": {
    "colab": {
     "base_uri": "https://localhost:8080/",
     "height": 606
    },
    "id": "j3Ap4VM9KxQv",
    "outputId": "f6025286-f8c4-4ffa-ac52-9e3842d75b78"
   },
   "outputs": [
    {
     "data": {
      "text/plain": [
       "<matplotlib.axes._subplots.AxesSubplot at 0x7f334aa56d10>"
      ]
     },
     "execution_count": 13,
     "metadata": {},
     "output_type": "execute_result"
    },
    {
     "data": {
      "image/png": "[encoded data removed]",
      "text/plain": [
       "<Figure size 864x720 with 1 Axes>"
      ]
     },
     "metadata": {
      "needs_background": "light"
     },
     "output_type": "display_data"
    }
   ],
   "source": [
    "# let's check label balance\n",
    "labels_df.label.value_counts().plot(kind='bar',figsize = (12,10))"
   ]
  },
  {
   "cell_type": "code",
   "execution_count": 14,
   "metadata": {
    "colab": {
     "base_uri": "https://localhost:8080/"
    },
    "id": "p56uzU8rKzzY",
    "outputId": "83975dde-e8c9-4625-f99b-19e4c7565204"
   },
   "outputs": [
    {
     "data": {
      "text/plain": [
       "array(['0', '1', '2', '3', '4', '5'], dtype=object)"
      ]
     },
     "execution_count": 14,
     "metadata": {},
     "output_type": "execute_result"
    }
   ],
   "source": [
    "unique_labels = np.unique(labels_df.label)\n",
    "unique_labels"
   ]
  },
  {
   "cell_type": "code",
   "execution_count": 15,
   "metadata": {
    "colab": {
     "base_uri": "https://localhost:8080/"
    },
    "id": "rFa3j8U_K49Y",
    "outputId": "1b93248a-7d10-493f-c213-18862a38e245"
   },
   "outputs": [
    {
     "data": {
      "text/plain": [
       "[array([False, False,  True, False, False, False]),\n",
       " array([False, False, False,  True, False, False])]"
      ]
     },
     "execution_count": 15,
     "metadata": {},
     "output_type": "execute_result"
    }
   ],
   "source": [
    "# we can create boolean label for each instance - one hot encoding\n",
    "boolean_labels = [label == unique_labels for label in labels_df.label]\n",
    "boolean_labels[:2]"
   ]
  },
  {
   "cell_type": "code",
   "execution_count": 16,
   "metadata": {
    "colab": {
     "base_uri": "https://localhost:8080/"
    },
    "id": "Rw-TmJ-ELBmG",
    "outputId": "2881cc29-16e3-4320-8445-3bede02cd063"
   },
   "outputs": [
    {
     "data": {
      "text/plain": [
       "True"
      ]
     },
     "execution_count": 16,
     "metadata": {},
     "output_type": "execute_result"
    }
   ],
   "source": [
    "# create list for paths and labels\n",
    "X = labels_df.path.to_list()\n",
    "y = boolean_labels\n",
    "len(X) == len(y)"
   ]
  },
  {
   "cell_type": "code",
   "execution_count": 17,
   "metadata": {
    "colab": {
     "base_uri": "https://localhost:8080/"
    },
    "id": "0fG7W_EpLDQW",
    "outputId": "47d5dd39-c3d8-485d-d60b-b9bef4daa608"
   },
   "outputs": [
    {
     "data": {
      "text/plain": [
       "(6150, 1538, 6150, 1538)"
      ]
     },
     "execution_count": 17,
     "metadata": {},
     "output_type": "execute_result"
    }
   ],
   "source": [
    "# create train and validation test\n",
    "X_train, X_val, y_train, y_val = train_test_split(X, y, test_size=0.2, random_state=1400)\n",
    "len(X_train),len(X_val),len(y_train),len(y_val)"
   ]
  },
  {
   "cell_type": "code",
   "execution_count": 18,
   "metadata": {
    "colab": {
     "base_uri": "https://localhost:8080/"
    },
    "id": "R_N4XNbiN-Pl",
    "outputId": "e2825bda-d0e7-495f-ade1-c1baeed20458"
   },
   "outputs": [
    {
     "data": {
      "text/plain": [
       "['train/4188_2.png',\n",
       " 'train/2617_1.png',\n",
       " 'train/7266_2.png',\n",
       " 'train/6716_4.png',\n",
       " 'train/3006_3.png',\n",
       " 'train/2530_1.png',\n",
       " 'train/3448_3.png',\n",
       " 'train/3308_0.png',\n",
       " 'train/7918_2.png',\n",
       " 'train/6018_0.png',\n",
       " 'train/822_5.png',\n",
       " 'train/3449_4.png',\n",
       " 'train/4173_2.png',\n",
       " 'train/8399_0.png',\n",
       " 'train/5018_5.png',\n",
       " 'train/7058_1.png',\n",
       " 'train/5397_2.png',\n",
       " 'train/3146_4.png',\n",
       " 'train/1037_1.png',\n",
       " 'train/4438_2.png',\n",
       " 'train/8796_5.png',\n",
       " 'train/2087_1.png',\n",
       " 'train/6908_5.png',\n",
       " 'train/1634_5.png',\n",
       " 'train/7631_1.png',\n",
       " 'train/4099_5.png',\n",
       " 'train/3784_2.png',\n",
       " 'train/2672_4.png',\n",
       " 'train/6371_1.png',\n",
       " 'train/6117_0.png',\n",
       " 'train/8353_5.png',\n",
       " 'train/7098_4.png',\n",
       " 'train/4723_4.png',\n",
       " 'train/3612_5.png',\n",
       " 'train/6637_4.png',\n",
       " 'train/6380_3.png',\n",
       " 'train/7187_2.png',\n",
       " 'train/4413_3.png',\n",
       " 'train/8247_3.png',\n",
       " 'train/5215_3.png',\n",
       " 'train/7201_0.png',\n",
       " 'train/6608_2.png',\n",
       " 'train/2451_4.png',\n",
       " 'train/8563_0.png',\n",
       " 'train/8712_4.png',\n",
       " 'train/4521_0.png',\n",
       " 'train/7667_0.png',\n",
       " 'train/6544_4.png',\n",
       " 'train/7008_4.png',\n",
       " 'train/6651_2.png',\n",
       " 'train/8237_0.png',\n",
       " 'train/3078_5.png',\n",
       " 'train/6745_1.png',\n",
       " 'train/5985_5.png',\n",
       " 'train/3793_4.png',\n",
       " 'train/4140_4.png',\n",
       " 'train/5165_5.png',\n",
       " 'train/8025_4.png',\n",
       " 'train/7827_3.png',\n",
       " 'train/5799_1.png',\n",
       " 'train/5921_2.png',\n",
       " 'train/8721_3.png',\n",
       " 'train/2711_1.png',\n",
       " 'train/5499_5.png',\n",
       " 'train/5404_1.png',\n",
       " 'train/1647_3.png',\n",
       " 'train/2882_4.png',\n",
       " 'train/4133_1.png',\n",
       " 'train/887_5.png',\n",
       " 'train/4617_0.png',\n",
       " 'train/4618_1.png',\n",
       " 'train/2986_3.png',\n",
       " 'train/5162_1.png',\n",
       " 'train/7435_3.png',\n",
       " 'train/6244_0.png',\n",
       " 'train/2728_1.png',\n",
       " 'train/1320_0.png',\n",
       " 'train/3270_5.png',\n",
       " 'train/3155_4.png',\n",
       " 'train/2222_4.png',\n",
       " 'train/8750_2.png',\n",
       " 'train/4522_1.png',\n",
       " 'train/4643_1.png',\n",
       " 'train/4445_0.png',\n",
       " 'train/5879_3.png',\n",
       " 'train/4231_1.png',\n",
       " 'train/6815_1.png',\n",
       " 'train/3327_4.png',\n",
       " 'train/2184_5.png',\n",
       " 'train/7013_5.png',\n",
       " 'train/4066_5.png',\n",
       " 'train/4487_0.png',\n",
       " 'train/3630_5.png',\n",
       " 'train/3774_4.png',\n",
       " 'train/4511_2.png',\n",
       " 'train/7120_0.png',\n",
       " 'train/7699_1.png',\n",
       " 'train/3430_4.png',\n",
       " 'train/7665_3.png',\n",
       " 'train/5540_1.png',\n",
       " 'train/595_4.png',\n",
       " 'train/6195_0.png',\n",
       " 'train/8058_4.png',\n",
       " 'train/7868_1.png',\n",
       " 'train/43_5.png',\n",
       " 'train/2985_2.png',\n",
       " 'train/2009_0.png',\n",
       " 'train/296_2.png',\n",
       " 'train/7200_0.png',\n",
       " 'train/2668_4.png',\n",
       " 'train/2286_1.png',\n",
       " 'train/0_0.png',\n",
       " 'train/3675_0.png',\n",
       " 'train/5593_1.png',\n",
       " 'train/8586_4.png',\n",
       " 'train/8398_4.png',\n",
       " 'train/7157_5.png',\n",
       " 'train/5427_2.png',\n",
       " 'train/3955_3.png',\n",
       " 'train/6776_0.png',\n",
       " 'train/2063_4.png',\n",
       " 'train/8821_5.png',\n",
       " 'train/7419_1.png',\n",
       " 'train/8695_4.png',\n",
       " 'train/4343_3.png',\n",
       " 'train/3382_2.png',\n",
       " 'train/5893_0.png',\n",
       " 'train/5699_2.png',\n",
       " 'train/3102_0.png',\n",
       " 'train/4980_1.png',\n",
       " 'train/4884_3.png',\n",
       " 'train/3544_4.png',\n",
       " 'train/3766_5.png',\n",
       " 'train/5163_3.png',\n",
       " 'train/7340_0.png',\n",
       " 'train/8908_4.png',\n",
       " 'train/5591_2.png',\n",
       " 'train/8294_5.png',\n",
       " 'train/6964_0.png',\n",
       " 'train/8595_2.png',\n",
       " 'train/5175_0.png',\n",
       " 'train/8290_1.png',\n",
       " 'train/4360_3.png',\n",
       " 'train/5020_4.png',\n",
       " 'train/2714_5.png',\n",
       " 'train/2244_0.png',\n",
       " 'train/5034_0.png',\n",
       " 'train/2568_0.png',\n",
       " 'train/8777_1.png',\n",
       " 'train/7428_5.png',\n",
       " 'train/3326_3.png',\n",
       " 'train/7534_2.png',\n",
       " 'train/5267_5.png',\n",
       " 'train/8339_2.png',\n",
       " 'train/3249_5.png',\n",
       " 'train/5506_2.png',\n",
       " 'train/3031_4.png',\n",
       " 'train/3853_5.png',\n",
       " 'train/6302_2.png',\n",
       " 'train/2966_4.png',\n",
       " 'train/7822_3.png',\n",
       " 'train/4805_1.png',\n",
       " 'train/3636_1.png',\n",
       " 'train/7913_5.png',\n",
       " 'train/3062_2.png',\n",
       " 'train/5142_5.png',\n",
       " 'train/8980_1.png',\n",
       " 'train/3561_5.png',\n",
       " 'train/5323_1.png',\n",
       " 'train/4509_5.png',\n",
       " 'train/4160_4.png',\n",
       " 'train/6973_3.png',\n",
       " 'train/6881_1.png',\n",
       " 'train/8849_4.png',\n",
       " 'train/4430_4.png',\n",
       " 'train/3680_1.png',\n",
       " 'train/4646_0.png',\n",
       " 'train/6139_2.png',\n",
       " 'train/2007_3.png',\n",
       " 'train/2533_4.png',\n",
       " 'train/6644_0.png',\n",
       " 'train/6669_2.png',\n",
       " 'train/7517_5.png',\n",
       " 'train/3222_4.png',\n",
       " 'train/4084_0.png',\n",
       " 'train/1374_4.png',\n",
       " 'train/7968_1.png',\n",
       " 'train/4206_2.png',\n",
       " 'train/2169_4.png',\n",
       " 'train/4933_2.png',\n",
       " 'train/8660_2.png',\n",
       " 'train/7576_0.png',\n",
       " 'train/7140_3.png',\n",
       " 'train/6287_1.png',\n",
       " 'train/3493_3.png',\n",
       " 'train/3366_4.png',\n",
       " 'train/5372_4.png',\n",
       " 'train/2328_3.png',\n",
       " 'train/6290_1.png',\n",
       " 'train/8506_1.png',\n",
       " 'train/3536_0.png',\n",
       " 'train/3355_5.png',\n",
       " 'train/7149_1.png',\n",
       " 'train/5195_4.png',\n",
       " 'train/2932_0.png',\n",
       " 'train/3904_1.png',\n",
       " 'train/5415_1.png',\n",
       " 'train/6242_4.png',\n",
       " 'train/6196_1.png',\n",
       " 'train/3311_3.png',\n",
       " 'train/3018_0.png',\n",
       " 'train/4930_5.png',\n",
       " 'train/7504_0.png',\n",
       " 'train/8655_3.png',\n",
       " 'train/1326_1.png',\n",
       " 'train/5806_5.png',\n",
       " 'train/2137_5.png',\n",
       " 'train/3271_0.png',\n",
       " 'train/6339_2.png',\n",
       " 'train/8870_1.png',\n",
       " 'train/6989_0.png',\n",
       " 'train/7030_1.png',\n",
       " 'train/6682_2.png',\n",
       " 'train/4728_3.png',\n",
       " 'train/2461_0.png',\n",
       " 'train/8527_5.png',\n",
       " 'train/6481_4.png',\n",
       " 'train/3282_2.png',\n",
       " 'train/1272_3.png',\n",
       " 'train/7639_4.png',\n",
       " 'train/5011_2.png',\n",
       " 'train/2502_3.png',\n",
       " 'train/3903_5.png',\n",
       " 'train/6073_0.png',\n",
       " 'train/8550_3.png',\n",
       " 'train/4510_1.png',\n",
       " 'train/7442_5.png',\n",
       " 'train/7652_5.png',\n",
       " 'train/6934_3.png',\n",
       " 'train/5944_2.png',\n",
       " 'train/6289_4.png',\n",
       " 'train/962_0.png',\n",
       " 'train/3141_3.png',\n",
       " 'train/7675_1.png',\n",
       " 'train/8617_4.png',\n",
       " 'train/3950_5.png',\n",
       " 'train/8598_0.png',\n",
       " 'train/7542_2.png',\n",
       " 'train/4158_2.png',\n",
       " 'train/5465_4.png',\n",
       " 'train/7509_2.png',\n",
       " 'train/6787_5.png',\n",
       " 'train/3821_5.png',\n",
       " 'train/8888_1.png',\n",
       " 'train/7330_0.png',\n",
       " 'train/7901_5.png',\n",
       " 'train/3773_3.png',\n",
       " 'train/8894_3.png',\n",
       " 'train/446_2.png',\n",
       " 'train/3063_4.png',\n",
       " 'train/4421_1.png',\n",
       " 'train/4000_5.png',\n",
       " 'train/8632_4.png',\n",
       " 'train/680_0.png',\n",
       " 'train/2709_5.png',\n",
       " 'train/1247_1.png',\n",
       " 'train/7443_0.png',\n",
       " 'train/6077_1.png',\n",
       " 'train/5286_1.png',\n",
       " 'train/3230_0.png',\n",
       " 'train/8013_1.png',\n",
       " 'train/2112_4.png',\n",
       " 'train/2389_1.png',\n",
       " 'train/7191_0.png',\n",
       " 'train/3836_5.png',\n",
       " 'train/8227_5.png',\n",
       " 'train/5695_4.png',\n",
       " 'train/7308_0.png',\n",
       " 'train/5836_4.png',\n",
       " 'train/1168_1.png',\n",
       " 'train/4054_1.png',\n",
       " 'train/3982_5.png',\n",
       " 'train/8069_4.png',\n",
       " 'train/5669_0.png',\n",
       " 'train/7765_0.png',\n",
       " 'train/3713_5.png',\n",
       " 'train/4367_0.png',\n",
       " 'train/6740_0.png',\n",
       " 'train/4526_5.png',\n",
       " 'train/7711_2.png',\n",
       " 'train/7974_2.png',\n",
       " 'train/7560_2.png',\n",
       " 'train/8884_1.png',\n",
       " 'train/2223_0.png',\n",
       " 'train/1163_1.png',\n",
       " 'train/4031_5.png',\n",
       " 'train/271_3.png',\n",
       " 'train/8793_2.png',\n",
       " 'train/4439_3.png',\n",
       " 'train/8569_3.png',\n",
       " 'train/2717_2.png',\n",
       " 'train/4577_2.png',\n",
       " 'train/8543_2.png',\n",
       " 'train/3154_3.png',\n",
       " 'train/8640_2.png',\n",
       " 'train/7477_5.png',\n",
       " 'train/3641_1.png',\n",
       " 'train/8362_0.png',\n",
       " 'train/2909_4.png',\n",
       " 'train/4364_2.png',\n",
       " 'train/6798_0.png',\n",
       " 'train/6626_3.png',\n",
       " 'train/791_3.png',\n",
       " 'train/8406_4.png',\n",
       " 'train/6354_1.png',\n",
       " 'train/6875_4.png',\n",
       " 'train/6147_0.png',\n",
       " 'train/7650_3.png',\n",
       " 'train/5837_5.png',\n",
       " 'train/3108_1.png',\n",
       " 'train/2995_1.png',\n",
       " 'train/2455_4.png',\n",
       " 'train/3082_4.png',\n",
       " 'train/5040_1.png',\n",
       " 'train/7048_2.png',\n",
       " 'train/4977_2.png',\n",
       " 'train/2762_5.png',\n",
       " 'train/4536_1.png',\n",
       " 'train/4011_3.png',\n",
       " 'train/2271_4.png',\n",
       " 'train/6783_5.png',\n",
       " 'train/2532_3.png',\n",
       " 'train/6088_4.png',\n",
       " 'train/2750_4.png',\n",
       " 'train/7073_2.png',\n",
       " 'train/8993_5.png',\n",
       " 'train/8366_5.png',\n",
       " 'train/2660_0.png',\n",
       " 'train/3412_1.png',\n",
       " 'train/2800_3.png',\n",
       " 'train/6579_2.png',\n",
       " 'train/7243_4.png',\n",
       " 'train/3761_5.png',\n",
       " 'train/8564_3.png',\n",
       " 'train/4518_3.png',\n",
       " 'train/5181_0.png',\n",
       " 'train/5224_4.png',\n",
       " 'train/6330_4.png',\n",
       " 'train/8850_5.png',\n",
       " 'train/4320_5.png',\n",
       " 'train/4262_3.png',\n",
       " 'train/6824_3.png',\n",
       " 'train/6814_2.png',\n",
       " 'train/4500_3.png',\n",
       " 'train/2180_1.png',\n",
       " 'train/8051_0.png',\n",
       " 'train/3195_1.png',\n",
       " 'train/4454_3.png',\n",
       " 'train/5148_0.png',\n",
       " 'train/5361_4.png',\n",
       " 'train/2680_3.png',\n",
       " 'train/3560_4.png',\n",
       " 'train/1077_4.png',\n",
       " 'train/2048_0.png',\n",
       " 'train/2555_3.png',\n",
       " 'train/8726_4.png',\n",
       " 'train/8772_2.png',\n",
       " 'train/7865_4.png',\n",
       " 'train/7670_4.png',\n",
       " 'train/5424_5.png',\n",
       " 'train/2039_0.png',\n",
       " 'train/7826_2.png',\n",
       " 'train/7326_2.png',\n",
       " 'train/2204_1.png',\n",
       " 'train/8457_4.png',\n",
       " 'train/2631_4.png',\n",
       " 'train/830_3.png',\n",
       " 'train/3165_4.png',\n",
       " 'train/5052_5.png',\n",
       " 'train/6187_5.png',\n",
       " 'train/6965_1.png',\n",
       " 'train/3371_0.png',\n",
       " 'train/8464_3.png',\n",
       " 'train/7369_4.png',\n",
       " 'train/8692_0.png',\n",
       " 'train/8023_1.png',\n",
       " 'train/7449_1.png',\n",
       " 'train/2293_5.png',\n",
       " 'train/8154_4.png',\n",
       " 'train/6057_3.png',\n",
       " 'train/7717_5.png',\n",
       " 'train/6986_1.png',\n",
       " 'train/5121_4.png',\n",
       " 'train/8067_2.png',\n",
       " 'train/7280_4.png',\n",
       " 'train/4807_4.png',\n",
       " 'train/5723_4.png',\n",
       " 'train/5939_3.png',\n",
       " 'train/4688_3.png',\n",
       " 'train/8619_1.png',\n",
       " 'train/2901_4.png',\n",
       " 'train/2254_4.png',\n",
       " 'train/3378_2.png',\n",
       " 'train/3863_1.png',\n",
       " 'train/3644_4.png',\n",
       " 'train/8285_5.png',\n",
       " 'train/3148_1.png',\n",
       " 'train/4708_4.png',\n",
       " 'train/3426_5.png',\n",
       " 'train/6161_2.png',\n",
       " 'train/2424_1.png',\n",
       " 'train/2190_4.png',\n",
       " 'train/5135_0.png',\n",
       " 'train/6026_5.png',\n",
       " 'train/5509_4.png',\n",
       " 'train/5056_3.png',\n",
       " 'train/3763_1.png',\n",
       " 'train/7188_3.png',\n",
       " 'train/7572_2.png',\n",
       " 'train/6426_3.png',\n",
       " 'train/7800_4.png',\n",
       " 'train/8010_3.png',\n",
       " 'train/8002_4.png',\n",
       " 'train/4449_4.png',\n",
       " 'train/4542_0.png',\n",
       " 'train/1967_4.png',\n",
       " 'train/3157_2.png',\n",
       " 'train/6327_0.png',\n",
       " 'train/2940_5.png',\n",
       " 'train/6175_2.png',\n",
       " 'train/1180_1.png',\n",
       " 'train/747_5.png',\n",
       " 'train/5380_5.png',\n",
       " 'train/4406_3.png',\n",
       " 'train/4971_1.png',\n",
       " 'train/486_5.png',\n",
       " 'train/582_2.png',\n",
       " 'train/6969_1.png',\n",
       " 'train/1003_3.png',\n",
       " 'train/6210_3.png',\n",
       " 'train/173_0.png',\n",
       " 'train/6275_2.png',\n",
       " 'train/4497_0.png',\n",
       " 'train/79_3.png',\n",
       " 'train/7117_3.png',\n",
       " 'train/5462_5.png',\n",
       " 'train/2285_0.png',\n",
       " 'train/2816_0.png',\n",
       " 'train/4242_1.png',\n",
       " 'train/6905_1.png',\n",
       " 'train/6622_4.png',\n",
       " 'train/6038_1.png',\n",
       " 'train/4715_0.png',\n",
       " 'train/1507_1.png',\n",
       " 'train/6914_1.png',\n",
       " 'train/1274_1.png',\n",
       " 'train/4635_4.png',\n",
       " 'train/3439_4.png',\n",
       " 'train/2433_1.png',\n",
       " 'train/2396_4.png',\n",
       " 'train/8343_0.png',\n",
       " 'train/6312_1.png',\n",
       " 'train/8481_2.png',\n",
       " 'train/1317_3.png',\n",
       " 'train/5524_1.png',\n",
       " 'train/317_2.png',\n",
       " 'train/1004_4.png',\n",
       " 'train/6421_0.png',\n",
       " 'train/1692_0.png',\n",
       " 'train/4294_2.png',\n",
       " 'train/4386_1.png',\n",
       " 'train/2634_1.png',\n",
       " 'train/2117_4.png',\n",
       " 'train/2292_4.png',\n",
       " 'train/7965_2.png',\n",
       " 'train/8026_5.png',\n",
       " 'train/2628_5.png',\n",
       " 'train/3626_5.png',\n",
       " 'train/5541_2.png',\n",
       " 'train/794_0.png',\n",
       " 'train/8015_5.png',\n",
       " 'train/6839_2.png',\n",
       " 'train/2871_2.png',\n",
       " 'train/4985_0.png',\n",
       " 'train/3734_0.png',\n",
       " 'train/6874_3.png',\n",
       " 'train/6084_5.png',\n",
       " 'train/4181_4.png',\n",
       " 'train/4218_5.png',\n",
       " 'train/4965_4.png',\n",
       " 'train/8718_3.png',\n",
       " 'train/2476_0.png',\n",
       " 'train/7208_3.png',\n",
       " 'train/3217_2.png',\n",
       " 'train/3096_2.png',\n",
       " 'train/1368_3.png',\n",
       " 'train/14_2.png',\n",
       " 'train/6520_0.png',\n",
       " 'train/2405_4.png',\n",
       " 'train/4730_5.png',\n",
       " 'train/5923_4.png',\n",
       " 'train/7106_1.png',\n",
       " 'train/6575_4.png',\n",
       " 'train/4666_3.png',\n",
       " 'train/7741_1.png',\n",
       " 'train/4879_1.png',\n",
       " 'train/8832_2.png',\n",
       " 'train/4130_4.png',\n",
       " 'train/7959_5.png',\n",
       " 'train/5960_4.png',\n",
       " 'train/3251_1.png',\n",
       " 'train/2694_4.png',\n",
       " 'train/1212_5.png',\n",
       " 'train/1767_4.png',\n",
       " 'train/8414_5.png',\n",
       " 'train/6816_2.png',\n",
       " 'train/6201_0.png',\n",
       " 'train/3840_4.png',\n",
       " 'train/3898_5.png',\n",
       " 'train/2170_5.png',\n",
       " 'train/5100_4.png',\n",
       " 'train/2132_4.png',\n",
       " 'train/1533_4.png',\n",
       " 'train/6862_5.png',\n",
       " 'train/5518_1.png',\n",
       " 'train/898_3.png',\n",
       " 'train/1250_5.png',\n",
       " 'train/6494_3.png',\n",
       " 'train/2552_0.png',\n",
       " 'train/5582_2.png',\n",
       " 'train/3730_4.png',\n",
       " 'train/1130_3.png',\n",
       " 'train/7591_0.png',\n",
       " 'train/7625_5.png',\n",
       " 'train/8885_2.png',\n",
       " 'train/2994_0.png',\n",
       " 'train/6763_3.png',\n",
       " 'train/1619_0.png',\n",
       " 'train/195_2.png',\n",
       " 'train/6185_3.png',\n",
       " 'train/5776_3.png',\n",
       " 'train/7341_1.png',\n",
       " 'train/1578_5.png',\n",
       " 'train/7779_5.png',\n",
       " 'train/5017_3.png',\n",
       " 'train/1972_4.png',\n",
       " 'train/3256_0.png',\n",
       " 'train/1560_0.png',\n",
       " 'train/8266_2.png',\n",
       " 'train/3180_1.png',\n",
       " 'train/8988_4.png',\n",
       " 'train/2323_4.png',\n",
       " 'train/6189_3.png',\n",
       " 'train/5071_1.png',\n",
       " 'train/8048_3.png',\n",
       " 'train/6247_4.png',\n",
       " 'train/2312_2.png',\n",
       " 'train/5461_4.png',\n",
       " 'train/3771_1.png',\n",
       " 'train/3964_2.png',\n",
       " 'train/8759_5.png',\n",
       " 'train/6635_2.png',\n",
       " 'train/5564_0.png',\n",
       " 'train/8523_5.png',\n",
       " 'train/8053_3.png',\n",
       " 'train/1969_0.png',\n",
       " 'train/4852_4.png',\n",
       " 'train/2_4.png',\n",
       " 'train/6911_2.png',\n",
       " 'train/8553_2.png',\n",
       " 'train/2264_2.png',\n",
       " 'train/6486_5.png',\n",
       " 'train/5343_0.png',\n",
       " 'train/3351_1.png',\n",
       " 'train/2356_5.png',\n",
       " 'train/7962_5.png',\n",
       " 'train/5138_3.png',\n",
       " 'train/824_1.png',\n",
       " 'train/3159_4.png',\n",
       " 'train/2074_4.png',\n",
       " 'train/668_4.png',\n",
       " 'train/1377_1.png',\n",
       " 'train/4298_4.png',\n",
       " 'train/5134_5.png',\n",
       " 'train/4571_1.png',\n",
       " 'train/7575_5.png',\n",
       " 'train/2091_5.png',\n",
       " 'train/4081_5.png',\n",
       " 'train/6927_4.png',\n",
       " 'train/7101_2.png',\n",
       " 'train/4587_4.png',\n",
       " 'train/3660_4.png',\n",
       " 'train/3455_5.png',\n",
       " 'train/3849_1.png',\n",
       " 'train/3411_0.png',\n",
       " 'train/4931_0.png',\n",
       " 'train/8865_1.png',\n",
       " 'train/3527_3.png',\n",
       " 'train/4339_2.png',\n",
       " 'train/1043_3.png',\n",
       " 'train/8059_5.png',\n",
       " 'train/1064_1.png',\n",
       " 'train/7936_1.png',\n",
       " 'train/2141_4.png',\n",
       " 'train/6996_0.png',\n",
       " 'train/5763_5.png',\n",
       " 'train/5827_4.png',\n",
       " 'train/1336_4.png',\n",
       " 'train/4168_2.png',\n",
       " 'train/4550_2.png',\n",
       " 'train/3737_3.png',\n",
       " 'train/4180_3.png',\n",
       " 'train/6076_5.png',\n",
       " 'train/4152_0.png',\n",
       " 'train/3315_2.png',\n",
       " 'train/3024_3.png',\n",
       " 'train/5266_4.png',\n",
       " 'train/3992_5.png',\n",
       " 'train/8298_0.png',\n",
       " 'train/6444_3.png',\n",
       " 'train/4962_1.png',\n",
       " 'train/8606_2.png',\n",
       " 'train/5261_4.png',\n",
       " 'train/2952_2.png',\n",
       " 'train/3896_3.png',\n",
       " 'train/4909_1.png',\n",
       " 'train/2258_5.png',\n",
       " 'train/7724_5.png',\n",
       " 'train/8532_0.png',\n",
       " 'train/5268_0.png',\n",
       " 'train/7577_1.png',\n",
       " 'train/4123_2.png',\n",
       " 'train/6868_5.png',\n",
       " 'train/7600_0.png',\n",
       " 'train/4005_2.png',\n",
       " 'train/1915_5.png',\n",
       " 'train/2713_4.png',\n",
       " 'train/6848_4.png',\n",
       " 'train/1764_5.png',\n",
       " 'train/3634_5.png',\n",
       " 'train/6016_3.png',\n",
       " 'train/8596_3.png',\n",
       " 'train/6844_2.png',\n",
       " 'train/3246_2.png',\n",
       " 'train/7236_2.png',\n",
       " 'train/8130_0.png',\n",
       " 'train/2305_3.png',\n",
       " 'train/5423_4.png',\n",
       " 'train/5001_1.png',\n",
       " 'train/2373_5.png',\n",
       " 'train/8802_0.png',\n",
       " 'train/3604_4.png',\n",
       " 'train/6593_5.png',\n",
       " 'train/6335_4.png',\n",
       " 'train/7535_4.png',\n",
       " 'train/5833_1.png',\n",
       " 'train/8502_2.png',\n",
       " 'train/5475_3.png',\n",
       " 'train/6428_0.png',\n",
       " 'train/2202_5.png',\n",
       " 'train/7605_4.png',\n",
       " 'train/1841_5.png',\n",
       " 'train/4792_3.png',\n",
       " 'train/4758_4.png',\n",
       " 'train/2151_4.png',\n",
       " 'train/8377_3.png',\n",
       " 'train/4959_4.png',\n",
       " 'train/8084_4.png',\n",
       " 'train/4383_4.png',\n",
       " 'train/8488_0.png',\n",
       " 'train/8314_3.png',\n",
       " 'train/8424_4.png',\n",
       " 'train/2780_4.png',\n",
       " 'train/6596_2.png',\n",
       " 'train/2991_3.png',\n",
       " 'train/4610_3.png',\n",
       " 'train/2542_4.png',\n",
       " 'train/8056_1.png',\n",
       " 'train/3090_1.png',\n",
       " 'train/3201_1.png',\n",
       " 'train/5882_1.png',\n",
       " 'train/6400_2.png',\n",
       " 'train/7753_3.png',\n",
       " 'train/8122_4.png',\n",
       " 'train/4690_5.png',\n",
       " 'train/2284_4.png',\n",
       " 'train/8618_0.png',\n",
       " 'train/6420_4.png',\n",
       " 'train/338_5.png',\n",
       " 'train/3790_0.png',\n",
       " 'train/6878_1.png',\n",
       " 'train/1009_2.png',\n",
       " 'train/1162_5.png',\n",
       " 'train/4747_1.png',\n",
       " 'train/8992_4.png',\n",
       " 'train/813_4.png',\n",
       " 'train/5968_4.png',\n",
       " 'train/3248_4.png',\n",
       " 'train/2380_0.png',\n",
       " 'train/5350_4.png',\n",
       " 'train/8896_0.png',\n",
       " 'train/7186_1.png',\n",
       " 'train/7076_3.png',\n",
       " 'train/1775_4.png',\n",
       " 'train/7496_0.png',\n",
       " 'train/2637_2.png',\n",
       " 'train/1361_4.png',\n",
       " 'train/4549_1.png',\n",
       " 'train/4295_1.png',\n",
       " 'train/3984_1.png',\n",
       " 'train/8309_4.png',\n",
       " 'train/2756_0.png',\n",
       " 'train/7669_3.png',\n",
       " 'train/4668_5.png',\n",
       " 'train/8775_4.png',\n",
       " 'train/5207_5.png',\n",
       " 'train/8046_0.png',\n",
       " 'train/5264_1.png',\n",
       " 'train/8086_1.png',\n",
       " 'train/2903_1.png',\n",
       " 'train/2196_5.png',\n",
       " 'train/245_5.png',\n",
       " 'train/6112_0.png',\n",
       " 'train/7606_5.png',\n",
       " 'train/1594_4.png',\n",
       " 'train/8816_3.png',\n",
       " 'train/4988_3.png',\n",
       " 'train/7692_3.png',\n",
       " 'train/3524_5.png',\n",
       " 'train/5658_0.png',\n",
       " 'train/2229_0.png',\n",
       " 'train/7315_0.png',\n",
       " 'train/4946_2.png',\n",
       " 'train/8641_3.png',\n",
       " 'train/2861_1.png',\n",
       " 'train/525_4.png',\n",
       " 'train/8791_3.png',\n",
       " 'train/2719_5.png',\n",
       " 'train/3203_5.png',\n",
       " 'train/5920_0.png',\n",
       " 'train/7091_1.png',\n",
       " 'train/6199_4.png',\n",
       " 'train/7387_5.png',\n",
       " 'train/8195_4.png',\n",
       " 'train/6866_3.png',\n",
       " 'train/6408_5.png',\n",
       " 'train/5272_4.png',\n",
       " 'train/3030_3.png',\n",
       " 'train/634_1.png',\n",
       " 'train/8889_2.png',\n",
       " 'train/728_0.png',\n",
       " 'train/3353_3.png',\n",
       " 'train/2599_1.png',\n",
       " 'train/910_5.png',\n",
       " 'train/4995_0.png',\n",
       " 'train/6477_1.png',\n",
       " 'train/2998_4.png',\n",
       " 'train/5042_5.png',\n",
       " 'train/7830_3.png',\n",
       " 'train/6099_1.png',\n",
       " 'train/1765_0.png',\n",
       " 'train/5908_3.png',\n",
       " 'train/6501_0.png',\n",
       " 'train/3831_5.png',\n",
       " 'train/7850_0.png',\n",
       " 'train/4939_3.png',\n",
       " 'train/1531_2.png',\n",
       " 'train/5889_2.png',\n",
       " 'train/2089_5.png',\n",
       " 'train/4912_4.png',\n",
       " 'train/8807_0.png',\n",
       " 'train/8289_0.png',\n",
       " 'train/2486_2.png',\n",
       " 'train/3683_4.png',\n",
       " 'train/4412_1.png',\n",
       " 'train/2605_4.png',\n",
       " 'train/8746_3.png',\n",
       " 'train/8094_5.png',\n",
       " 'train/1422_3.png',\n",
       " 'train/6715_4.png',\n",
       " 'train/3570_3.png',\n",
       " 'train/2018_1.png',\n",
       " 'train/7916_3.png',\n",
       " 'train/302_2.png',\n",
       " 'train/1345_0.png',\n",
       " 'train/1248_2.png',\n",
       " 'train/7262_3.png',\n",
       " 'train/2837_3.png',\n",
       " 'train/7927_0.png',\n",
       " 'train/8347_5.png',\n",
       " 'train/1278_5.png',\n",
       " 'train/5759_5.png',\n",
       " 'train/2849_2.png',\n",
       " 'train/6684_0.png',\n",
       " 'train/4254_1.png',\n",
       " 'train/2449_2.png',\n",
       " 'train/4056_3.png',\n",
       " 'train/2458_3.png',\n",
       " 'train/3323_0.png',\n",
       " 'train/3599_4.png',\n",
       " 'train/5435_1.png',\n",
       " 'train/5103_2.png',\n",
       " 'train/3622_5.png',\n",
       " 'train/4706_2.png',\n",
       " 'train/8680_5.png',\n",
       " 'train/2544_0.png',\n",
       " 'train/2311_1.png',\n",
       " 'train/7394_3.png',\n",
       " 'train/3577_5.png',\n",
       " 'train/6027_0.png',\n",
       " 'train/8474_4.png',\n",
       " 'train/6020_2.png',\n",
       " 'train/3902_4.png',\n",
       " 'train/3911_3.png',\n",
       " 'train/8267_3.png',\n",
       " 'train/4849_0.png',\n",
       " 'train/7290_4.png',\n",
       " 'train/4669_0.png',\n",
       " 'train/4613_2.png',\n",
       " 'train/6522_2.png',\n",
       " 'train/3702_5.png',\n",
       " 'train/8748_5.png',\n",
       " 'train/6731_1.png',\n",
       " 'train/3375_4.png',\n",
       " 'train/2218_5.png',\n",
       " 'train/7313_3.png',\n",
       " 'train/8804_3.png',\n",
       " 'train/1235_1.png',\n",
       " 'train/7802_0.png',\n",
       " 'train/3779_3.png',\n",
       " 'train/5691_4.png',\n",
       " 'train/5580_5.png',\n",
       " 'train/1464_4.png',\n",
       " 'train/101_2.png',\n",
       " 'train/2429_1.png',\n",
       " 'train/3848_0.png',\n",
       " 'train/2618_2.png',\n",
       " 'train/8108_2.png',\n",
       " 'train/3666_0.png',\n",
       " 'train/2920_4.png',\n",
       " 'train/6120_5.png',\n",
       " 'train/5684_1.png',\n",
       " 'train/6276_3.png',\n",
       " 'train/2240_1.png',\n",
       " 'train/5904_4.png',\n",
       " 'train/5989_4.png',\n",
       " 'train/6102_5.png',\n",
       " 'train/2908_3.png',\n",
       " 'train/561_5.png',\n",
       " 'train/6775_5.png',\n",
       " 'train/3340_3.png',\n",
       " 'train/7222_0.png',\n",
       " 'train/2372_4.png',\n",
       " 'train/8041_0.png',\n",
       " 'train/7520_0.png',\n",
       " 'train/7033_2.png',\n",
       " 'train/6419_3.png',\n",
       " 'train/3974_2.png',\n",
       " 'train/5730_2.png',\n",
       " 'train/5911_2.png',\n",
       " 'train/816_1.png',\n",
       " 'train/7925_3.png',\n",
       " 'train/4951_1.png',\n",
       " 'train/4221_2.png',\n",
       " 'train/8098_2.png',\n",
       " 'train/5106_3.png',\n",
       " 'train/5819_0.png',\n",
       " 'train/3760_4.png',\n",
       " 'train/3081_3.png',\n",
       " 'train/7612_0.png',\n",
       " 'train/6604_3.png',\n",
       " 'train/61_5.png',\n",
       " 'train/8799_3.png',\n",
       " 'train/3425_3.png',\n",
       " 'train/8357_4.png',\n",
       " 'train/5384_2.png',\n",
       " 'train/5447_4.png',\n",
       " 'train/6594_0.png',\n",
       " 'train/3400_3.png',\n",
       " 'train/4761_2.png',\n",
       " 'train/3565_3.png',\n",
       " 'train/7589_5.png',\n",
       " 'train/7155_2.png',\n",
       " 'train/5666_3.png',\n",
       " 'train/6792_0.png',\n",
       " 'train/2953_3.png',\n",
       " 'train/6871_4.png',\n",
       " 'train/1919_3.png',\n",
       " 'train/3884_5.png',\n",
       " 'train/6710_3.png',\n",
       " 'train/4530_5.png',\n",
       " 'train/7334_5.png',\n",
       " 'train/1836_5.png',\n",
       " 'train/3807_3.png',\n",
       " 'train/945_4.png',\n",
       " 'train/5690_2.png',\n",
       " 'train/4257_2.png',\n",
       " 'train/7751_1.png',\n",
       " 'train/6207_0.png',\n",
       " 'train/5643_3.png',\n",
       " 'train/7842_1.png',\n",
       " 'train/6032_1.png',\n",
       " 'train/6979_5.png',\n",
       " 'train/5539_5.png',\n",
       " 'train/4970_5.png',\n",
       " 'train/5668_5.png',\n",
       " 'train/6442_1.png',\n",
       " 'train/5957_5.png',\n",
       " 'train/5006_2.png',\n",
       " 'train/8794_3.png',\n",
       " 'train/2357_2.png',\n",
       " 'train/7996_4.png',\n",
       " 'train/4599_4.png',\n",
       " 'train/6822_0.png',\n",
       " 'train/5406_3.png',\n",
       " 'train/5734_1.png',\n",
       " 'train/6367_1.png',\n",
       " 'train/5012_3.png',\n",
       " 'train/6384_1.png',\n",
       " 'train/8221_3.png',\n",
       " 'train/7431_5.png',\n",
       " 'train/6524_5.png',\n",
       " 'train/532_2.png',\n",
       " 'train/3019_2.png',\n",
       " 'train/7158_1.png',\n",
       " 'train/4936_0.png',\n",
       " 'train/3119_3.png',\n",
       " 'train/5720_1.png',\n",
       " 'train/171_4.png',\n",
       " 'train/2655_5.png',\n",
       " 'train/4815_3.png',\n",
       " 'train/3852_4.png',\n",
       " 'train/2000_5.png',\n",
       " 'train/6070_2.png',\n",
       " 'train/6673_2.png',\n",
       " 'train/8346_4.png',\n",
       " 'train/5952_3.png',\n",
       " 'train/2808_5.png',\n",
       " 'train/3783_1.png',\n",
       " 'train/8186_3.png',\n",
       " 'train/2739_3.png',\n",
       " 'train/4224_1.png',\n",
       " 'train/8932_2.png',\n",
       " 'train/3614_1.png',\n",
       " 'train/3357_2.png',\n",
       " 'train/6559_5.png',\n",
       " 'train/7879_4.png',\n",
       " 'train/4938_2.png',\n",
       " 'train/4126_3.png',\n",
       " 'train/6399_1.png',\n",
       " 'train/8261_1.png',\n",
       " 'train/8844_3.png',\n",
       " 'train/1881_1.png',\n",
       " 'train/8005_4.png',\n",
       " 'train/7674_0.png',\n",
       " 'train/3809_0.png',\n",
       " 'train/5337_3.png',\n",
       " 'train/1965_2.png',\n",
       " 'train/7251_4.png',\n",
       " 'train/8157_0.png',\n",
       " 'train/3216_3.png',\n",
       " 'train/635_2.png',\n",
       " 'train/6202_1.png',\n",
       " 'train/2643_3.png',\n",
       " 'train/8991_1.png',\n",
       " 'train/4408_5.png',\n",
       " 'train/7264_5.png',\n",
       " 'train/5218_1.png',\n",
       " 'train/5159_2.png',\n",
       " 'train/3331_0.png',\n",
       " 'train/6358_5.png',\n",
       " 'train/7797_5.png',\n",
       " 'train/7568_4.png',\n",
       " 'train/390_2.png',\n",
       " 'train/7079_0.png',\n",
       " 'train/4544_2.png',\n",
       " 'train/7095_1.png',\n",
       " 'train/4870_4.png',\n",
       " 'train/5214_0.png',\n",
       " 'train/1745_3.png',\n",
       " 'train/4107_2.png',\n",
       " 'train/1704_1.png',\n",
       " 'train/5167_1.png',\n",
       " 'train/84_5.png',\n",
       " 'train/678_4.png',\n",
       " 'train/6168_1.png',\n",
       " 'train/5246_4.png',\n",
       " 'train/7672_0.png',\n",
       " 'train/4253_2.png',\n",
       " 'train/2227_4.png',\n",
       " 'train/1186_1.png',\n",
       " 'train/4738_0.png',\n",
       " 'train/2977_4.png',\n",
       " 'train/3574_1.png',\n",
       " 'train/6970_2.png',\n",
       " 'train/5087_1.png',\n",
       " 'train/7294_2.png',\n",
       " 'train/7522_4.png',\n",
       " 'train/7643_2.png',\n",
       " 'train/6628_1.png',\n",
       " ...]"
      ]
     },
     "execution_count": 18,
     "metadata": {},
     "output_type": "execute_result"
    }
   ],
   "source": [
    "X_train"
   ]
  },
  {
   "cell_type": "code",
   "execution_count": 19,
   "metadata": {
    "id": "FCvQb1JJLHXO"
   },
   "outputs": [],
   "source": [
    "# Define image size\n",
    "IMG_SIZE = 224\n",
    "\n",
    "def process_image(image_path):\n",
    "  \"\"\"\n",
    "  Takes an image file path and turns it into a Tensor.\n",
    "  \"\"\"\n",
    "  # Read in image file\n",
    "  image = tf.io.read_file(image_path)\n",
    "  # Turn the jpeg image into numerical Tensor with 3 colour channels (Red, Green, Blue)\n",
    "  image = tf.image.decode_jpeg(image, channels=3)\n",
    "  # Convert the colour channel values from 0-225 values to 0-1 values\n",
    "  image = tf.image.convert_image_dtype(image, tf.float32)\n",
    "  # Resize the image to our desired size (224, 244)\n",
    "  image = tf.image.resize(image, size=[IMG_SIZE, IMG_SIZE])\n",
    "  return image"
   ]
  },
  {
   "cell_type": "code",
   "execution_count": 20,
   "metadata": {
    "id": "1aGzqtNyLKQm"
   },
   "outputs": [],
   "source": [
    "# Create a simple function to return a tuple (image, label)\n",
    "def get_image_label(image_path, label):\n",
    "  \"\"\"\n",
    "  Takes an image file path name and the associated label,\n",
    "  processes the image and returns a tuple of (image, label).\n",
    "  \"\"\"\n",
    "  image = process_image(image_path)\n",
    "  return image, label"
   ]
  },
  {
   "cell_type": "code",
   "execution_count": 21,
   "metadata": {
    "id": "8oN1hzxrLN-1"
   },
   "outputs": [],
   "source": [
    "# Define the batch size, 32 is a good default\n",
    "BATCH_SIZE = 64\n",
    "\n",
    "# Create a function to turn data into batches\n",
    "def create_data_batches(x, y=None, batch_size=BATCH_SIZE, valid_data=False, test_data=False):\n",
    "  \"\"\"\n",
    "  Creates batches of data out of image (x) and label (y) pairs.\n",
    "  Shuffles the data if it's training data but doesn't shuffle it if it's validation data.\n",
    "  Also accepts test data as input (no labels).\n",
    "  \"\"\"\n",
    "  # If the data is a test dataset, we probably don't have labels\n",
    "  if test_data:\n",
    "    print(\"Creating test data batches...\")\n",
    "    data = tf.data.Dataset.from_tensor_slices((tf.constant(x))) # only filepaths\n",
    "    data_batch = data.map(process_image).batch(BATCH_SIZE)\n",
    "    return data_batch\n",
    "  \n",
    "  # If the data if a valid dataset, we don't need to shuffle it\n",
    "  elif valid_data:\n",
    "    print(\"Creating validation data batches...\")\n",
    "    data = tf.data.Dataset.from_tensor_slices((tf.constant(x), # filepaths\n",
    "                                               tf.constant(y))) # labels\n",
    "    data_batch = data.map(get_image_label).batch(BATCH_SIZE)\n",
    "    return data_batch\n",
    "\n",
    "  else:\n",
    "    # If the data is a training dataset, we shuffle it\n",
    "    print(\"Creating training data batches...\")\n",
    "    # Turn filepaths and labels into Tensors\n",
    "    data = tf.data.Dataset.from_tensor_slices((tf.constant(x), # filepaths\n",
    "                                              tf.constant(y))) # labels\n",
    "    \n",
    "    # Shuffling pathnames and labels before mapping image processor function is faster than shuffling images\n",
    "    data = data.shuffle(buffer_size=len(x))\n",
    "\n",
    "    # Create (image, label) tuples (this also turns the image path into a preprocessed image)\n",
    "    data = data.map(get_image_label)\n",
    "\n",
    "    # Turn the data into batches\n",
    "    data_batch = data.batch(BATCH_SIZE)\n",
    "  return data_batch"
   ]
  },
  {
   "cell_type": "code",
   "execution_count": 22,
   "metadata": {
    "colab": {
     "base_uri": "https://localhost:8080/"
    },
    "id": "5wgkg3NnLZUb",
    "outputId": "18fa5376-bbdb-4b4c-bfac-d9d0f8ac529d"
   },
   "outputs": [
    {
     "name": "stdout",
     "output_type": "stream",
     "text": [
      "Creating training data batches...\n",
      "Creating validation data batches...\n"
     ]
    }
   ],
   "source": [
    "# Create training and validation data batches\n",
    "train_data = create_data_batches(X_train, y_train)\n",
    "val_data = create_data_batches(X_val, y_val, valid_data=True)"
   ]
  },
  {
   "cell_type": "code",
   "execution_count": 23,
   "metadata": {
    "colab": {
     "base_uri": "https://localhost:8080/"
    },
    "id": "NkouZD3vLcr8",
    "outputId": "96e9bd45-2b29-4426-8178-5727bd10e91a"
   },
   "outputs": [
    {
     "data": {
      "text/plain": [
       "((TensorSpec(shape=(None, 224, 224, 3), dtype=tf.float32, name=None),\n",
       "  TensorSpec(shape=(None, 6), dtype=tf.bool, name=None)),\n",
       " (TensorSpec(shape=(None, 224, 224, 3), dtype=tf.float32, name=None),\n",
       "  TensorSpec(shape=(None, 6), dtype=tf.bool, name=None)))"
      ]
     },
     "execution_count": 23,
     "metadata": {},
     "output_type": "execute_result"
    }
   ],
   "source": [
    "# Check out the different attributes of our data batches\n",
    "train_data.element_spec, val_data.element_spec"
   ]
  },
  {
   "cell_type": "code",
   "execution_count": 24,
   "metadata": {
    "id": "BvSz3zdVLfxV"
   },
   "outputs": [],
   "source": [
    "import matplotlib.pyplot as plt\n",
    "\n",
    "# Create a function for viewing images in a data batch\n",
    "def show_25_images(images, labels):\n",
    "  \"\"\"\n",
    "  Displays 25 images from a data batch.\n",
    "  \"\"\"\n",
    "  # Setup the figure\n",
    "  plt.figure(figsize=(10, 10))\n",
    "  # Loop through 25 (for displaying 25 images)\n",
    "  for i in range(25):\n",
    "    # Create subplots (5 rows, 5 columns)\n",
    "    ax = plt.subplot(5, 5, i+1)\n",
    "    # Display an image\n",
    "    plt.imshow(images[i])\n",
    "    # Add the image label as the title\n",
    "    plt.title(unique_labels[labels[i].argmax()])\n",
    "    # Turn gird lines off\n",
    "    plt.axis(\"off\")"
   ]
  },
  {
   "cell_type": "code",
   "execution_count": 25,
   "metadata": {
    "colab": {
     "base_uri": "https://localhost:8080/",
     "height": 591
    },
    "id": "EqjldgiILi3n",
    "outputId": "502ad671-3435-4063-b016-8b7986969ccb"
   },
   "outputs": [
    {
     "data": {
      "image/png": "[encoded data removed]",
      "text/plain": [
       "<Figure size 720x720 with 25 Axes>"
      ]
     },
     "metadata": {
      "needs_background": "light"
     },
     "output_type": "display_data"
    }
   ],
   "source": [
    "# Visualize training images from the training data batch\n",
    "train_images, train_labels = next(train_data.as_numpy_iterator())\n",
    "show_25_images(train_images, train_labels)"
   ]
  },
  {
   "cell_type": "code",
   "execution_count": 26,
   "metadata": {
    "id": "IQsiV4MTLluM"
   },
   "outputs": [],
   "source": [
    "# Setup input shape to the model\n",
    "INPUT_SHAPE = [None, IMG_SIZE, IMG_SIZE, 3] # batch, height, width, colour channels\n",
    "\n",
    "# Setup output shape of the model\n",
    "OUTPUT_SHAPE = len(unique_labels) # number of unique labels\n",
    "\n",
    "# Setup model URL from TensorFlow Hub\n",
    "MODEL_URL = \"https://tfhub.dev/google/imagenet/mobilenet_v3_large_100_224/classification/5\""
   ]
  },
  {
   "cell_type": "code",
   "execution_count": 27,
   "metadata": {
    "id": "Y44oNaD_Q819"
   },
   "outputs": [],
   "source": [
    "#  Create a function which builds a Keras model\n",
    "def create_model(input_shape=INPUT_SHAPE, output_shape=OUTPUT_SHAPE, model_url=MODEL_URL):\n",
    "  print(\"Building model with:\", MODEL_URL)\n",
    "\n",
    "  # Setup the model layers\n",
    "  model = tf.keras.Sequential([\n",
    "    hub.KerasLayer(MODEL_URL), # Layer 1 (input layer)\n",
    "    tf.keras.layers.Dense(units=OUTPUT_SHAPE, \n",
    "                          activation=\"softmax\") # Layer 2 (output layer)\n",
    "  ])\n",
    "\n",
    "  # Compile the model\n",
    "  model.compile(\n",
    "      loss=tf.keras.losses.CategoricalCrossentropy(), # Our model wants to reduce this (how wrong its guesses are)\n",
    "      optimizer=tf.keras.optimizers.Adam(), # A friend telling our model how to improve its guesses\n",
    "      metrics=[\"accuracy\"] # We'd like this to go up\n",
    "  )\n",
    "\n",
    "  # Build the model\n",
    "  model.build(INPUT_SHAPE) # Let the model know what kind of inputs it'll be getting\n",
    "  \n",
    "  return model"
   ]
  },
  {
   "cell_type": "code",
   "execution_count": 28,
   "metadata": {
    "colab": {
     "base_uri": "https://localhost:8080/"
    },
    "id": "Ev7A7ZXoRAB-",
    "outputId": "ce1c38ba-ab75-4ae6-de89-72d399e62f41"
   },
   "outputs": [
    {
     "name": "stdout",
     "output_type": "stream",
     "text": [
      "Building model with: https://tfhub.dev/google/imagenet/mobilenet_v3_large_100_224/classification/5\n",
      "Model: \"sequential\"\n",
      "_________________________________________________________________\n",
      " Layer (type)                Output Shape              Param #   \n",
      "=================================================================\n",
      " keras_layer (KerasLayer)    (None, 1001)              5508713   \n",
      "                                                                 \n",
      " dense (Dense)               (None, 6)                 6012      \n",
      "                                                                 \n",
      "=================================================================\n",
      "Total params: 5,514,725\n",
      "Trainable params: 6,012\n",
      "Non-trainable params: 5,508,713\n",
      "_________________________________________________________________\n"
     ]
    }
   ],
   "source": [
    "# Create a model and check its details\n",
    "model = create_model()\n",
    "model.summary()"
   ]
  },
  {
   "cell_type": "code",
   "execution_count": 29,
   "metadata": {
    "id": "eWnUzJgRRCM6"
   },
   "outputs": [],
   "source": [
    "# Create early stopping (once our model stops improving, stop training)\n",
    "early_stopping = tf.keras.callbacks.EarlyStopping(monitor=\"val_accuracy\",\n",
    "                                                  patience=5) # stops after 3 rounds of no improvements"
   ]
  },
  {
   "cell_type": "code",
   "execution_count": 30,
   "metadata": {
    "colab": {
     "base_uri": "https://localhost:8080/"
    },
    "id": "alXVEzPDRE6A",
    "outputId": "f7970a80-f639-41c2-8c87-aeff95ad7342"
   },
   "outputs": [
    {
     "name": "stdout",
     "output_type": "stream",
     "text": [
      "GPU available (YESS!!!!)\n"
     ]
    }
   ],
   "source": [
    "# Check again if GPU is available (otherwise computing will take a looooonnnnggggg time)\n",
    "print(\"GPU\", \"available (YESS!!!!)\" if tf.config.list_physical_devices(\"GPU\") else \"not available :(\")"
   ]
  },
  {
   "cell_type": "code",
   "execution_count": 31,
   "metadata": {
    "id": "Xw0JzxqgRHKM"
   },
   "outputs": [],
   "source": [
    "# How many rounds should we get the model to look through the data?\n",
    "NUM_EPOCHS = 15 #@param {type:\"slider\", min:1, max:100, step:1}"
   ]
  },
  {
   "cell_type": "code",
   "execution_count": 32,
   "metadata": {
    "id": "1lQgjrbkRHUN"
   },
   "outputs": [],
   "source": [
    "# Build a function to train and return a trained model\n",
    "def train_model():\n",
    "  \"\"\"\n",
    "  Trains a given model and returns the trained version.\n",
    "  \"\"\"\n",
    "  # Create a model\n",
    "  model = create_model()\n",
    "\n",
    "  # Fit the model to the data passing it the callbacks we created\n",
    "  h = model.fit(x=train_data,\n",
    "            epochs=NUM_EPOCHS,\n",
    "            validation_data=val_data,\n",
    "            validation_freq=1) # check validation metrics every epoch\n",
    "  \n",
    "  return model , h"
   ]
  },
  {
   "cell_type": "code",
   "execution_count": 33,
   "metadata": {
    "colab": {
     "base_uri": "https://localhost:8080/"
    },
    "id": "5OuyFlnvRHdM",
    "outputId": "b951934c-03a2-474c-9c79-65e38b90a918"
   },
   "outputs": [
    {
     "name": "stdout",
     "output_type": "stream",
     "text": [
      "Building model with: https://tfhub.dev/google/imagenet/mobilenet_v3_large_100_224/classification/5\n",
      "Epoch 1/15\n",
      "97/97 [==============================] - 39s 179ms/step - loss: 0.2900 - accuracy: 0.9158 - val_loss: 0.0353 - val_accuracy: 0.9967\n",
      "Epoch 2/15\n",
      "97/97 [==============================] - 18s 181ms/step - loss: 0.0236 - accuracy: 0.9979 - val_loss: 0.0190 - val_accuracy: 0.9980\n",
      "Epoch 3/15\n",
      "97/97 [==============================] - 16s 160ms/step - loss: 0.0152 - accuracy: 0.9989 - val_loss: 0.0108 - val_accuracy: 0.9993\n",
      "Epoch 4/15\n",
      "97/97 [==============================] - 16s 164ms/step - loss: 0.0084 - accuracy: 0.9995 - val_loss: 0.0082 - val_accuracy: 0.9993\n",
      "Epoch 5/15\n",
      "97/97 [==============================] - 18s 181ms/step - loss: 0.0062 - accuracy: 0.9998 - val_loss: 0.0061 - val_accuracy: 0.9993\n",
      "Epoch 6/15\n",
      "97/97 [==============================] - 16s 160ms/step - loss: 0.0049 - accuracy: 0.9998 - val_loss: 0.0048 - val_accuracy: 0.9993\n",
      "Epoch 7/15\n",
      "97/97 [==============================] - 15s 158ms/step - loss: 0.0039 - accuracy: 0.9998 - val_loss: 0.0039 - val_accuracy: 0.9993\n",
      "Epoch 8/15\n",
      "97/97 [==============================] - 18s 180ms/step - loss: 0.0031 - accuracy: 1.0000 - val_loss: 0.0034 - val_accuracy: 1.0000\n",
      "Epoch 9/15\n",
      "97/97 [==============================] - 18s 181ms/step - loss: 0.0027 - accuracy: 0.9998 - val_loss: 0.0029 - val_accuracy: 1.0000\n",
      "Epoch 10/15\n",
      "97/97 [==============================] - 16s 161ms/step - loss: 0.0023 - accuracy: 1.0000 - val_loss: 0.0025 - val_accuracy: 1.0000\n",
      "Epoch 11/15\n",
      "97/97 [==============================] - 18s 180ms/step - loss: 0.0020 - accuracy: 1.0000 - val_loss: 0.0023 - val_accuracy: 1.0000\n",
      "Epoch 12/15\n",
      "97/97 [==============================] - 18s 181ms/step - loss: 0.0017 - accuracy: 1.0000 - val_loss: 0.0020 - val_accuracy: 1.0000\n",
      "Epoch 13/15\n",
      "97/97 [==============================] - 15s 158ms/step - loss: 0.0015 - accuracy: 1.0000 - val_loss: 0.0018 - val_accuracy: 1.0000\n",
      "Epoch 14/15\n",
      "97/97 [==============================] - 15s 158ms/step - loss: 0.0014 - accuracy: 1.0000 - val_loss: 0.0017 - val_accuracy: 1.0000\n",
      "Epoch 15/15\n",
      "97/97 [==============================] - 18s 184ms/step - loss: 0.0012 - accuracy: 1.0000 - val_loss: 0.0014 - val_accuracy: 1.0000\n"
     ]
    }
   ],
   "source": [
    "# Fit the model to the data\n",
    "model , h = train_model()"
   ]
  },
  {
   "cell_type": "code",
   "execution_count": 34,
   "metadata": {
    "colab": {
     "base_uri": "https://localhost:8080/"
    },
    "id": "F53baZaURHsE",
    "outputId": "99fb7cbe-a0ce-4ca7-f475-aa6e0af86ad7"
   },
   "outputs": [
    {
     "name": "stdout",
     "output_type": "stream",
     "text": [
      "25/25 [==============================] - 4s 119ms/step\n"
     ]
    },
    {
     "data": {
      "text/plain": [
       "array([[1.9482793e-06, 1.7637591e-07, 3.4999335e-04, 9.9958748e-01,\n",
       "        5.8646201e-05, 1.7616468e-06],\n",
       "       [7.6374022e-07, 1.1182540e-08, 2.4255275e-08, 2.0671656e-05,\n",
       "        2.2464825e-05, 9.9995613e-01],\n",
       "       [1.9761503e-06, 7.1373756e-09, 2.0092914e-09, 2.0930731e-06,\n",
       "        1.2606919e-05, 9.9998331e-01],\n",
       "       ...,\n",
       "       [3.0326311e-04, 9.9947602e-01, 2.2013701e-04, 1.9120992e-07,\n",
       "        3.5968757e-08, 3.9493315e-07],\n",
       "       [9.9986422e-01, 1.2721995e-07, 5.7875855e-09, 2.4478456e-07,\n",
       "        1.3537583e-04, 1.5358621e-08],\n",
       "       [4.3156679e-06, 1.2061254e-07, 3.1999357e-07, 1.3571832e-03,\n",
       "        9.9850452e-01, 1.3351925e-04]], dtype=float32)"
      ]
     },
     "execution_count": 34,
     "metadata": {},
     "output_type": "execute_result"
    }
   ],
   "source": [
    "# Make predictions on the validation data (not used to train on)\n",
    "predictions = model.predict(val_data, verbose=1) # verbose shows us how long there is to go\n",
    "predictions"
   ]
  },
  {
   "cell_type": "code",
   "execution_count": 35,
   "metadata": {
    "colab": {
     "base_uri": "https://localhost:8080/",
     "height": 36
    },
    "id": "a4LsaSBYRcm9",
    "outputId": "01369efd-2777-4987-8269-5a7122c6060b"
   },
   "outputs": [
    {
     "data": {
      "application/vnd.google.colaboratory.intrinsic+json": {
       "type": "string"
      },
      "text/plain": [
       "'3'"
      ]
     },
     "execution_count": 35,
     "metadata": {},
     "output_type": "execute_result"
    }
   ],
   "source": [
    "# Turn prediction probabilities into their respective label (easier to understand)\n",
    "def get_pred_label(prediction_probabilities):\n",
    "  \"\"\"\n",
    "  Turns an array of prediction probabilities into a label.\n",
    "  \"\"\"\n",
    "  return unique_labels[np.argmax(prediction_probabilities)]\n",
    "\n",
    "# Get a predicted label based on an array of prediction probabilities\n",
    "pred_label = get_pred_label(predictions[0])\n",
    "pred_label"
   ]
  },
  {
   "cell_type": "code",
   "execution_count": 36,
   "metadata": {
    "id": "fA3_T8jSRcuW"
   },
   "outputs": [],
   "source": [
    "# create list of predicted labels and actual labels\n",
    "predictions_list = list(map(get_pred_label,predictions))\n",
    "y_val_list = list(map(get_pred_label,y_val))"
   ]
  },
  {
   "cell_type": "markdown",
   "metadata": {
    "id": "Lg4Jr45rRkNH"
   },
   "source": [
    "# evaluation model with validation data"
   ]
  },
  {
   "cell_type": "code",
   "execution_count": 37,
   "metadata": {
    "colab": {
     "base_uri": "https://localhost:8080/",
     "height": 781
    },
    "id": "pID5fAntRc15",
    "outputId": "a7356ee3-b840-4ce6-89ad-b6e041234193"
   },
   "outputs": [
    {
     "data": {
      "image/png": "[encoded data removed]",
      "text/plain": [
       "<Figure size 1080x936 with 2 Axes>"
      ]
     },
     "metadata": {
      "needs_background": "light"
     },
     "output_type": "display_data"
    }
   ],
   "source": [
    "# draw confusion matrix\n",
    "cm = confusion_matrix(y_val_list, predictions_list)\n",
    "\n",
    "fig, ax = plt.subplots(figsize=(15,13)) \n",
    "sns.heatmap(cm, annot=True, fmt='g',ax=ax);\n",
    "\n",
    "ax.set_title('Confusion Matrix');\n",
    "ax.set_xlabel('Predicted food')\n",
    "ax.set_ylabel('Actual food');\n",
    "\n",
    "ax.xaxis.set_ticklabels(unique_labels, rotation = 90)\n",
    "ax.yaxis.set_ticklabels(unique_labels, rotation = 0)\n",
    "\n",
    "\n",
    "plt.show()"
   ]
  },
  {
   "cell_type": "code",
   "execution_count": 38,
   "metadata": {
    "colab": {
     "base_uri": "https://localhost:8080/"
    },
    "id": "xWLcNTacRnTo",
    "outputId": "60d0e546-b385-42e2-b05c-454bfa7679d4"
   },
   "outputs": [
    {
     "name": "stdout",
     "output_type": "stream",
     "text": [
      "              precision    recall  f1-score   support\n",
      "\n",
      "           0       1.00      1.00      1.00       259\n",
      "           1       1.00      1.00      1.00       233\n",
      "           2       1.00      1.00      1.00       239\n",
      "           3       1.00      1.00      1.00       237\n",
      "           4       1.00      1.00      1.00       292\n",
      "           5       1.00      1.00      1.00       278\n",
      "\n",
      "    accuracy                           1.00      1538\n",
      "   macro avg       1.00      1.00      1.00      1538\n",
      "weighted avg       1.00      1.00      1.00      1538\n",
      "\n"
     ]
    }
   ],
   "source": [
    "print(classification_report(y_val_list,predictions_list))"
   ]
  },
  {
   "cell_type": "markdown",
   "metadata": {
    "id": "_aENeRxw3QYI"
   },
   "source": [
    "# save models!"
   ]
  },
  {
   "cell_type": "code",
   "execution_count": 39,
   "metadata": {
    "id": "BK7zfVIsRnoY"
   },
   "outputs": [],
   "source": [
    "# save models\n",
    "import datetime\n",
    "model.save(datetime.datetime.now().strftime(\"%Y%m%d-%H%M%s\") + '.h5')"
   ]
  },
  {
   "cell_type": "code",
   "execution_count": 40,
   "metadata": {
    "id": "_GoWz5Ep3U0Z"
   },
   "outputs": [],
   "source": [
    "# ! gdown --id 1YKWqTOQ781uWR2CI1Rk-95i4mmB_wRcb"
   ]
  },
  {
   "cell_type": "code",
   "execution_count": 41,
   "metadata": {
    "id": "9E7nsNc03XbQ"
   },
   "outputs": [],
   "source": [
    "# load model\n",
    "# model = tf.keras.models.load_model('20211118-13561637243816.h5',custom_objects={\"KerasLayer\":hub.KerasLayer})"
   ]
  },
  {
   "cell_type": "markdown",
   "metadata": {
    "id": "5odZo_rcR3cc"
   },
   "source": [
    "create test labels to submit"
   ]
  },
  {
   "cell_type": "code",
   "execution_count": 42,
   "metadata": {
    "colab": {
     "base_uri": "https://localhost:8080/",
     "height": 423
    },
    "id": "omDM2GDaR0FS",
    "outputId": "12f471c1-0a1b-4a8c-aa0d-e042139a271f"
   },
   "outputs": [
    {
     "data": {
      "text/html": [
       "\n",
       "  <div id=\"df-0565b9bf-b57c-4de6-b8f3-2e480392b114\">\n",
       "    <div class=\"colab-df-container\">\n",
       "      <div>\n",
       "<style scoped>\n",
       "    .dataframe tbody tr th:only-of-type {\n",
       "        vertical-align: middle;\n",
       "    }\n",
       "\n",
       "    .dataframe tbody tr th {\n",
       "        vertical-align: top;\n",
       "    }\n",
       "\n",
       "    .dataframe thead th {\n",
       "        text-align: right;\n",
       "    }\n",
       "</style>\n",
       "<table border=\"1\" class=\"dataframe\">\n",
       "  <thead>\n",
       "    <tr style=\"text-align: right;\">\n",
       "      <th></th>\n",
       "      <th>file</th>\n",
       "    </tr>\n",
       "  </thead>\n",
       "  <tbody>\n",
       "    <tr>\n",
       "      <th>0</th>\n",
       "      <td>test/869.png</td>\n",
       "    </tr>\n",
       "    <tr>\n",
       "      <th>1</th>\n",
       "      <td>test/746.png</td>\n",
       "    </tr>\n",
       "    <tr>\n",
       "      <th>2</th>\n",
       "      <td>test/1510.png</td>\n",
       "    </tr>\n",
       "    <tr>\n",
       "      <th>3</th>\n",
       "      <td>test/243.png</td>\n",
       "    </tr>\n",
       "    <tr>\n",
       "      <th>4</th>\n",
       "      <td>test/696.png</td>\n",
       "    </tr>\n",
       "    <tr>\n",
       "      <th>...</th>\n",
       "      <td>...</td>\n",
       "    </tr>\n",
       "    <tr>\n",
       "      <th>2997</th>\n",
       "      <td>test/1106.png</td>\n",
       "    </tr>\n",
       "    <tr>\n",
       "      <th>2998</th>\n",
       "      <td>test/2563.png</td>\n",
       "    </tr>\n",
       "    <tr>\n",
       "      <th>2999</th>\n",
       "      <td>test/2693.png</td>\n",
       "    </tr>\n",
       "    <tr>\n",
       "      <th>3000</th>\n",
       "      <td>test/389.png</td>\n",
       "    </tr>\n",
       "    <tr>\n",
       "      <th>3001</th>\n",
       "      <td>test/2463.png</td>\n",
       "    </tr>\n",
       "  </tbody>\n",
       "</table>\n",
       "<p>3002 rows × 1 columns</p>\n",
       "</div>\n",
       "      <button class=\"colab-df-convert\" onclick=\"convertToInteractive('df-0565b9bf-b57c-4de6-b8f3-2e480392b114')\"\n",
       "              title=\"Convert this dataframe to an interactive table.\"\n",
       "              style=\"display:none;\">\n",
       "        \n",
       "  <svg xmlns=\"http://www.w3.org/2000/svg\" height=\"24px\"viewBox=\"0 0 24 24\"\n",
       "       width=\"24px\">\n",
       "    <path d=\"M0 0h24v24H0V0z\" fill=\"none\"/>\n",
       "    <path d=\"M18.56 5.44l.94 2.06.94-2.06 2.06-.94-2.06-.94-.94-2.06-.94 2.06-2.06.94zm-11 1L8.5 8.5l.94-2.06 2.06-.94-2.06-.94L8.5 2.5l-.94 2.06-2.06.94zm10 10l.94 2.06.94-2.06 2.06-.94-2.06-.94-.94-2.06-.94 2.06-2.06.94z\"/><path d=\"M17.41 7.96l-1.37-1.37c-.4-.4-.92-.59-1.43-.59-.52 0-1.04.2-1.43.59L10.3 9.45l-7.72 7.72c-.78.78-.78 2.05 0 2.83L4 21.41c.39.39.9.59 1.41.59.51 0 1.02-.2 1.41-.59l7.78-7.78 2.81-2.81c.8-.78.8-2.07 0-2.86zM5.41 20L4 18.59l7.72-7.72 1.47 1.35L5.41 20z\"/>\n",
       "  </svg>\n",
       "      </button>\n",
       "      \n",
       "  <style>\n",
       "    .colab-df-container {\n",
       "      display:flex;\n",
       "      flex-wrap:wrap;\n",
       "      gap: 12px;\n",
       "    }\n",
       "\n",
       "    .colab-df-convert {\n",
       "      background-color: #E8F0FE;\n",
       "      border: none;\n",
       "      border-radius: 50%;\n",
       "      cursor: pointer;\n",
       "      display: none;\n",
       "      fill: #1967D2;\n",
       "      height: 32px;\n",
       "      padding: 0 0 0 0;\n",
       "      width: 32px;\n",
       "    }\n",
       "\n",
       "    .colab-df-convert:hover {\n",
       "      background-color: #E2EBFA;\n",
       "      box-shadow: 0px 1px 2px rgba(60, 64, 67, 0.3), 0px 1px 3px 1px rgba(60, 64, 67, 0.15);\n",
       "      fill: #174EA6;\n",
       "    }\n",
       "\n",
       "    [theme=dark] .colab-df-convert {\n",
       "      background-color: #3B4455;\n",
       "      fill: #D2E3FC;\n",
       "    }\n",
       "\n",
       "    [theme=dark] .colab-df-convert:hover {\n",
       "      background-color: #434B5C;\n",
       "      box-shadow: 0px 1px 3px 1px rgba(0, 0, 0, 0.15);\n",
       "      filter: drop-shadow(0px 1px 2px rgba(0, 0, 0, 0.3));\n",
       "      fill: #FFFFFF;\n",
       "    }\n",
       "  </style>\n",
       "\n",
       "      <script>\n",
       "        const buttonEl =\n",
       "          document.querySelector('#df-0565b9bf-b57c-4de6-b8f3-2e480392b114 button.colab-df-convert');\n",
       "        buttonEl.style.display =\n",
       "          google.colab.kernel.accessAllowed ? 'block' : 'none';\n",
       "\n",
       "        async function convertToInteractive(key) {\n",
       "          const element = document.querySelector('#df-0565b9bf-b57c-4de6-b8f3-2e480392b114');\n",
       "          const dataTable =\n",
       "            await google.colab.kernel.invokeFunction('convertToInteractive',\n",
       "                                                     [key], {});\n",
       "          if (!dataTable) return;\n",
       "\n",
       "          const docLinkHtml = 'Like what you see? Visit the ' +\n",
       "            '<a target=\"_blank\" href=https://colab.research.google.com/notebooks/data_table.ipynb>data table notebook</a>'\n",
       "            + ' to learn more about interactive tables.';\n",
       "          element.innerHTML = '';\n",
       "          dataTable['output_type'] = 'display_data';\n",
       "          await google.colab.output.renderOutput(dataTable, element);\n",
       "          const docLink = document.createElement('div');\n",
       "          docLink.innerHTML = docLinkHtml;\n",
       "          element.appendChild(docLink);\n",
       "        }\n",
       "      </script>\n",
       "    </div>\n",
       "  </div>\n",
       "  "
      ],
      "text/plain": [
       "               file\n",
       "0      test/869.png\n",
       "1      test/746.png\n",
       "2     test/1510.png\n",
       "3      test/243.png\n",
       "4      test/696.png\n",
       "...             ...\n",
       "2997  test/1106.png\n",
       "2998  test/2563.png\n",
       "2999  test/2693.png\n",
       "3000   test/389.png\n",
       "3001  test/2463.png\n",
       "\n",
       "[3002 rows x 1 columns]"
      ]
     },
     "execution_count": 42,
     "metadata": {},
     "output_type": "execute_result"
    }
   ],
   "source": [
    "# create dataframe from files\n",
    "path_list = list(map(lambda x: os.path.join(test_dir,x), os.listdir(test_dir)))\n",
    "\n",
    "test_df = pd.DataFrame({'file':path_list})\n",
    "test_df"
   ]
  },
  {
   "cell_type": "code",
   "execution_count": 43,
   "metadata": {
    "colab": {
     "base_uri": "https://localhost:8080/"
    },
    "id": "bV7-OXrER6EH",
    "outputId": "de2aae63-948e-4547-d874-9da2e8fe9c66"
   },
   "outputs": [
    {
     "data": {
      "text/plain": [
       "3002"
      ]
     },
     "execution_count": 43,
     "metadata": {},
     "output_type": "execute_result"
    }
   ],
   "source": [
    "# create list for paths and labels\n",
    "X_test = test_df.file.to_list()\n",
    "len(X_test)"
   ]
  },
  {
   "cell_type": "code",
   "execution_count": 44,
   "metadata": {
    "colab": {
     "base_uri": "https://localhost:8080/"
    },
    "id": "ihLxGafYR6MW",
    "outputId": "4175dea2-7bb0-4a71-b9b9-474ce6e8428f"
   },
   "outputs": [
    {
     "name": "stdout",
     "output_type": "stream",
     "text": [
      "Creating test data batches...\n"
     ]
    }
   ],
   "source": [
    "# convert data to bathces\n",
    "test_data = create_data_batches(X_test, test_data=True)"
   ]
  },
  {
   "cell_type": "code",
   "execution_count": 45,
   "metadata": {
    "colab": {
     "base_uri": "https://localhost:8080/"
    },
    "id": "k0MdH8oOR6Ub",
    "outputId": "d1e70bb9-b3dc-43ce-9dee-c0835c16a292"
   },
   "outputs": [
    {
     "name": "stdout",
     "output_type": "stream",
     "text": [
      "47/47 [==============================] - 7s 141ms/step\n"
     ]
    },
    {
     "data": {
      "text/plain": [
       "3002"
      ]
     },
     "execution_count": 45,
     "metadata": {},
     "output_type": "execute_result"
    }
   ],
   "source": [
    "# predict for test dataset\n",
    "predictions = model.predict(test_data, verbose=1) # verbose shows us how long there is to go\n",
    "len(predictions)"
   ]
  },
  {
   "cell_type": "code",
   "execution_count": 46,
   "metadata": {
    "id": "W_l_1LBpSDWG"
   },
   "outputs": [],
   "source": [
    "# create list of predicted labels and actual labels\n",
    "predictions_list = list(map(get_pred_label,predictions))"
   ]
  },
  {
   "cell_type": "code",
   "execution_count": 47,
   "metadata": {
    "colab": {
     "base_uri": "https://localhost:8080/",
     "height": 423
    },
    "id": "3czUZf3rSDlZ",
    "outputId": "cef3f339-87c8-418a-aa61-c7a6dc7373c7"
   },
   "outputs": [
    {
     "data": {
      "text/html": [
       "\n",
       "  <div id=\"df-18dcfb40-8b48-4cdd-a4fc-7f9ab7b23290\">\n",
       "    <div class=\"colab-df-container\">\n",
       "      <div>\n",
       "<style scoped>\n",
       "    .dataframe tbody tr th:only-of-type {\n",
       "        vertical-align: middle;\n",
       "    }\n",
       "\n",
       "    .dataframe tbody tr th {\n",
       "        vertical-align: top;\n",
       "    }\n",
       "\n",
       "    .dataframe thead th {\n",
       "        text-align: right;\n",
       "    }\n",
       "</style>\n",
       "<table border=\"1\" class=\"dataframe\">\n",
       "  <thead>\n",
       "    <tr style=\"text-align: right;\">\n",
       "      <th></th>\n",
       "      <th>ID</th>\n",
       "      <th>prediction</th>\n",
       "    </tr>\n",
       "  </thead>\n",
       "  <tbody>\n",
       "    <tr>\n",
       "      <th>0</th>\n",
       "      <td>869.png</td>\n",
       "      <td>5</td>\n",
       "    </tr>\n",
       "    <tr>\n",
       "      <th>1</th>\n",
       "      <td>746.png</td>\n",
       "      <td>0</td>\n",
       "    </tr>\n",
       "    <tr>\n",
       "      <th>2</th>\n",
       "      <td>1510.png</td>\n",
       "      <td>1</td>\n",
       "    </tr>\n",
       "    <tr>\n",
       "      <th>3</th>\n",
       "      <td>243.png</td>\n",
       "      <td>4</td>\n",
       "    </tr>\n",
       "    <tr>\n",
       "      <th>4</th>\n",
       "      <td>696.png</td>\n",
       "      <td>4</td>\n",
       "    </tr>\n",
       "    <tr>\n",
       "      <th>...</th>\n",
       "      <td>...</td>\n",
       "      <td>...</td>\n",
       "    </tr>\n",
       "    <tr>\n",
       "      <th>2997</th>\n",
       "      <td>1106.png</td>\n",
       "      <td>3</td>\n",
       "    </tr>\n",
       "    <tr>\n",
       "      <th>2998</th>\n",
       "      <td>2563.png</td>\n",
       "      <td>1</td>\n",
       "    </tr>\n",
       "    <tr>\n",
       "      <th>2999</th>\n",
       "      <td>2693.png</td>\n",
       "      <td>1</td>\n",
       "    </tr>\n",
       "    <tr>\n",
       "      <th>3000</th>\n",
       "      <td>389.png</td>\n",
       "      <td>4</td>\n",
       "    </tr>\n",
       "    <tr>\n",
       "      <th>3001</th>\n",
       "      <td>2463.png</td>\n",
       "      <td>0</td>\n",
       "    </tr>\n",
       "  </tbody>\n",
       "</table>\n",
       "<p>3002 rows × 2 columns</p>\n",
       "</div>\n",
       "      <button class=\"colab-df-convert\" onclick=\"convertToInteractive('df-18dcfb40-8b48-4cdd-a4fc-7f9ab7b23290')\"\n",
       "              title=\"Convert this dataframe to an interactive table.\"\n",
       "              style=\"display:none;\">\n",
       "        \n",
       "  <svg xmlns=\"http://www.w3.org/2000/svg\" height=\"24px\"viewBox=\"0 0 24 24\"\n",
       "       width=\"24px\">\n",
       "    <path d=\"M0 0h24v24H0V0z\" fill=\"none\"/>\n",
       "    <path d=\"M18.56 5.44l.94 2.06.94-2.06 2.06-.94-2.06-.94-.94-2.06-.94 2.06-2.06.94zm-11 1L8.5 8.5l.94-2.06 2.06-.94-2.06-.94L8.5 2.5l-.94 2.06-2.06.94zm10 10l.94 2.06.94-2.06 2.06-.94-2.06-.94-.94-2.06-.94 2.06-2.06.94z\"/><path d=\"M17.41 7.96l-1.37-1.37c-.4-.4-.92-.59-1.43-.59-.52 0-1.04.2-1.43.59L10.3 9.45l-7.72 7.72c-.78.78-.78 2.05 0 2.83L4 21.41c.39.39.9.59 1.41.59.51 0 1.02-.2 1.41-.59l7.78-7.78 2.81-2.81c.8-.78.8-2.07 0-2.86zM5.41 20L4 18.59l7.72-7.72 1.47 1.35L5.41 20z\"/>\n",
       "  </svg>\n",
       "      </button>\n",
       "      \n",
       "  <style>\n",
       "    .colab-df-container {\n",
       "      display:flex;\n",
       "      flex-wrap:wrap;\n",
       "      gap: 12px;\n",
       "    }\n",
       "\n",
       "    .colab-df-convert {\n",
       "      background-color: #E8F0FE;\n",
       "      border: none;\n",
       "      border-radius: 50%;\n",
       "      cursor: pointer;\n",
       "      display: none;\n",
       "      fill: #1967D2;\n",
       "      height: 32px;\n",
       "      padding: 0 0 0 0;\n",
       "      width: 32px;\n",
       "    }\n",
       "\n",
       "    .colab-df-convert:hover {\n",
       "      background-color: #E2EBFA;\n",
       "      box-shadow: 0px 1px 2px rgba(60, 64, 67, 0.3), 0px 1px 3px 1px rgba(60, 64, 67, 0.15);\n",
       "      fill: #174EA6;\n",
       "    }\n",
       "\n",
       "    [theme=dark] .colab-df-convert {\n",
       "      background-color: #3B4455;\n",
       "      fill: #D2E3FC;\n",
       "    }\n",
       "\n",
       "    [theme=dark] .colab-df-convert:hover {\n",
       "      background-color: #434B5C;\n",
       "      box-shadow: 0px 1px 3px 1px rgba(0, 0, 0, 0.15);\n",
       "      filter: drop-shadow(0px 1px 2px rgba(0, 0, 0, 0.3));\n",
       "      fill: #FFFFFF;\n",
       "    }\n",
       "  </style>\n",
       "\n",
       "      <script>\n",
       "        const buttonEl =\n",
       "          document.querySelector('#df-18dcfb40-8b48-4cdd-a4fc-7f9ab7b23290 button.colab-df-convert');\n",
       "        buttonEl.style.display =\n",
       "          google.colab.kernel.accessAllowed ? 'block' : 'none';\n",
       "\n",
       "        async function convertToInteractive(key) {\n",
       "          const element = document.querySelector('#df-18dcfb40-8b48-4cdd-a4fc-7f9ab7b23290');\n",
       "          const dataTable =\n",
       "            await google.colab.kernel.invokeFunction('convertToInteractive',\n",
       "                                                     [key], {});\n",
       "          if (!dataTable) return;\n",
       "\n",
       "          const docLinkHtml = 'Like what you see? Visit the ' +\n",
       "            '<a target=\"_blank\" href=https://colab.research.google.com/notebooks/data_table.ipynb>data table notebook</a>'\n",
       "            + ' to learn more about interactive tables.';\n",
       "          element.innerHTML = '';\n",
       "          dataTable['output_type'] = 'display_data';\n",
       "          await google.colab.output.renderOutput(dataTable, element);\n",
       "          const docLink = document.createElement('div');\n",
       "          docLink.innerHTML = docLinkHtml;\n",
       "          element.appendChild(docLink);\n",
       "        }\n",
       "      </script>\n",
       "    </div>\n",
       "  </div>\n",
       "  "
      ],
      "text/plain": [
       "            ID prediction\n",
       "0      869.png          5\n",
       "1      746.png          0\n",
       "2     1510.png          1\n",
       "3      243.png          4\n",
       "4      696.png          4\n",
       "...        ...        ...\n",
       "2997  1106.png          3\n",
       "2998  2563.png          1\n",
       "2999  2693.png          1\n",
       "3000   389.png          4\n",
       "3001  2463.png          0\n",
       "\n",
       "[3002 rows x 2 columns]"
      ]
     },
     "execution_count": 47,
     "metadata": {},
     "output_type": "execute_result"
    }
   ],
   "source": [
    "# create output_df\n",
    "\n",
    "output_df = pd.DataFrame({'ID':test_df.file.apply(lambda x:x.split('/')[1])})\n",
    "output_df['prediction'] = predictions_list\n",
    "output_df"
   ]
  },
  {
   "cell_type": "code",
   "execution_count": 48,
   "metadata": {
    "colab": {
     "base_uri": "https://localhost:8080/",
     "height": 243
    },
    "id": "ttFvyGkCY2ff",
    "outputId": "716ea0dd-b278-4495-bc45-5a3879cbf0ac"
   },
   "outputs": [
    {
     "name": "stderr",
     "output_type": "stream",
     "text": [
      "/usr/local/lib/python3.7/dist-packages/ipykernel_launcher.py:1: FutureWarning: The default value of regex will change from True to False in a future version.\n",
      "  \"\"\"Entry point for launching an IPython kernel.\n"
     ]
    },
    {
     "data": {
      "text/html": [
       "\n",
       "  <div id=\"df-9c1b2830-34f1-4b17-83ee-712f35b4b859\">\n",
       "    <div class=\"colab-df-container\">\n",
       "      <div>\n",
       "<style scoped>\n",
       "    .dataframe tbody tr th:only-of-type {\n",
       "        vertical-align: middle;\n",
       "    }\n",
       "\n",
       "    .dataframe tbody tr th {\n",
       "        vertical-align: top;\n",
       "    }\n",
       "\n",
       "    .dataframe thead th {\n",
       "        text-align: right;\n",
       "    }\n",
       "</style>\n",
       "<table border=\"1\" class=\"dataframe\">\n",
       "  <thead>\n",
       "    <tr style=\"text-align: right;\">\n",
       "      <th></th>\n",
       "      <th>ID</th>\n",
       "      <th>prediction</th>\n",
       "    </tr>\n",
       "  </thead>\n",
       "  <tbody>\n",
       "    <tr>\n",
       "      <th>0</th>\n",
       "      <td>869</td>\n",
       "      <td>5</td>\n",
       "    </tr>\n",
       "    <tr>\n",
       "      <th>1</th>\n",
       "      <td>746</td>\n",
       "      <td>0</td>\n",
       "    </tr>\n",
       "    <tr>\n",
       "      <th>2</th>\n",
       "      <td>1510</td>\n",
       "      <td>1</td>\n",
       "    </tr>\n",
       "    <tr>\n",
       "      <th>3</th>\n",
       "      <td>243</td>\n",
       "      <td>4</td>\n",
       "    </tr>\n",
       "    <tr>\n",
       "      <th>4</th>\n",
       "      <td>696</td>\n",
       "      <td>4</td>\n",
       "    </tr>\n",
       "  </tbody>\n",
       "</table>\n",
       "</div>\n",
       "      <button class=\"colab-df-convert\" onclick=\"convertToInteractive('df-9c1b2830-34f1-4b17-83ee-712f35b4b859')\"\n",
       "              title=\"Convert this dataframe to an interactive table.\"\n",
       "              style=\"display:none;\">\n",
       "        \n",
       "  <svg xmlns=\"http://www.w3.org/2000/svg\" height=\"24px\"viewBox=\"0 0 24 24\"\n",
       "       width=\"24px\">\n",
       "    <path d=\"M0 0h24v24H0V0z\" fill=\"none\"/>\n",
       "    <path d=\"M18.56 5.44l.94 2.06.94-2.06 2.06-.94-2.06-.94-.94-2.06-.94 2.06-2.06.94zm-11 1L8.5 8.5l.94-2.06 2.06-.94-2.06-.94L8.5 2.5l-.94 2.06-2.06.94zm10 10l.94 2.06.94-2.06 2.06-.94-2.06-.94-.94-2.06-.94 2.06-2.06.94z\"/><path d=\"M17.41 7.96l-1.37-1.37c-.4-.4-.92-.59-1.43-.59-.52 0-1.04.2-1.43.59L10.3 9.45l-7.72 7.72c-.78.78-.78 2.05 0 2.83L4 21.41c.39.39.9.59 1.41.59.51 0 1.02-.2 1.41-.59l7.78-7.78 2.81-2.81c.8-.78.8-2.07 0-2.86zM5.41 20L4 18.59l7.72-7.72 1.47 1.35L5.41 20z\"/>\n",
       "  </svg>\n",
       "      </button>\n",
       "      \n",
       "  <style>\n",
       "    .colab-df-container {\n",
       "      display:flex;\n",
       "      flex-wrap:wrap;\n",
       "      gap: 12px;\n",
       "    }\n",
       "\n",
       "    .colab-df-convert {\n",
       "      background-color: #E8F0FE;\n",
       "      border: none;\n",
       "      border-radius: 50%;\n",
       "      cursor: pointer;\n",
       "      display: none;\n",
       "      fill: #1967D2;\n",
       "      height: 32px;\n",
       "      padding: 0 0 0 0;\n",
       "      width: 32px;\n",
       "    }\n",
       "\n",
       "    .colab-df-convert:hover {\n",
       "      background-color: #E2EBFA;\n",
       "      box-shadow: 0px 1px 2px rgba(60, 64, 67, 0.3), 0px 1px 3px 1px rgba(60, 64, 67, 0.15);\n",
       "      fill: #174EA6;\n",
       "    }\n",
       "\n",
       "    [theme=dark] .colab-df-convert {\n",
       "      background-color: #3B4455;\n",
       "      fill: #D2E3FC;\n",
       "    }\n",
       "\n",
       "    [theme=dark] .colab-df-convert:hover {\n",
       "      background-color: #434B5C;\n",
       "      box-shadow: 0px 1px 3px 1px rgba(0, 0, 0, 0.15);\n",
       "      filter: drop-shadow(0px 1px 2px rgba(0, 0, 0, 0.3));\n",
       "      fill: #FFFFFF;\n",
       "    }\n",
       "  </style>\n",
       "\n",
       "      <script>\n",
       "        const buttonEl =\n",
       "          document.querySelector('#df-9c1b2830-34f1-4b17-83ee-712f35b4b859 button.colab-df-convert');\n",
       "        buttonEl.style.display =\n",
       "          google.colab.kernel.accessAllowed ? 'block' : 'none';\n",
       "\n",
       "        async function convertToInteractive(key) {\n",
       "          const element = document.querySelector('#df-9c1b2830-34f1-4b17-83ee-712f35b4b859');\n",
       "          const dataTable =\n",
       "            await google.colab.kernel.invokeFunction('convertToInteractive',\n",
       "                                                     [key], {});\n",
       "          if (!dataTable) return;\n",
       "\n",
       "          const docLinkHtml = 'Like what you see? Visit the ' +\n",
       "            '<a target=\"_blank\" href=https://colab.research.google.com/notebooks/data_table.ipynb>data table notebook</a>'\n",
       "            + ' to learn more about interactive tables.';\n",
       "          element.innerHTML = '';\n",
       "          dataTable['output_type'] = 'display_data';\n",
       "          await google.colab.output.renderOutput(dataTable, element);\n",
       "          const docLink = document.createElement('div');\n",
       "          docLink.innerHTML = docLinkHtml;\n",
       "          element.appendChild(docLink);\n",
       "        }\n",
       "      </script>\n",
       "    </div>\n",
       "  </div>\n",
       "  "
      ],
      "text/plain": [
       "     ID prediction\n",
       "0   869          5\n",
       "1   746          0\n",
       "2  1510          1\n",
       "3   243          4\n",
       "4   696          4"
      ]
     },
     "execution_count": 48,
     "metadata": {},
     "output_type": "execute_result"
    }
   ],
   "source": [
    "output_df['ID'] = output_df['ID'].str.replace('.png', '')\n",
    "output_df.head()"
   ]
  },
  {
   "cell_type": "code",
   "execution_count": 49,
   "metadata": {
    "id": "rKwUYaZ-SDr3"
   },
   "outputs": [],
   "source": [
    "output_df.to_csv('output.csv',index = False)"
   ]
  },
  {
   "cell_type": "code",
   "execution_count": 49,
   "metadata": {
    "id": "5N0iVJKfSD18"
   },
   "outputs": [],
   "source": []
  }
 ],
 "metadata": {
  "accelerator": "GPU",
  "colab": {
   "collapsed_sections": [],
   "name": "finger.ipynb",
   "provenance": []
  },
  "kernelspec": {
   "display_name": "Python 3",
   "language": "python",
   "name": "python3"
  },
  "language_info": {
   "codemirror_mode": {
    "name": "ipython",
    "version": 3
   },
   "file_extension": ".py",
   "mimetype": "text/x-python",
   "name": "python",
   "nbconvert_exporter": "python",
   "pygments_lexer": "ipython3",
   "version": "3.9.2"
  }
 },
 "nbformat": 4,
 "nbformat_minor": 1
}
